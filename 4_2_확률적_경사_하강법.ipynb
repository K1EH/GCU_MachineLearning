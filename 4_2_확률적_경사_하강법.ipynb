{
  "cells": [
    {
      "cell_type": "markdown",
      "metadata": {
        "id": "view-in-github",
        "colab_type": "text"
      },
      "source": [
        "<a href=\"https://colab.research.google.com/github/K1EH/GCU_MachineLearning/blob/main/4_2_%ED%99%95%EB%A5%A0%EC%A0%81_%EA%B2%BD%EC%82%AC_%ED%95%98%EA%B0%95%EB%B2%95.ipynb\" target=\"_parent\"><img src=\"https://colab.research.google.com/assets/colab-badge.svg\" alt=\"Open In Colab\"/></a>"
      ]
    },
    {
      "cell_type": "markdown",
      "metadata": {
        "id": "L5ALSPQSJp-n"
      },
      "source": [
        "# 확률적 경사 하강법"
      ]
    },
    {
      "cell_type": "markdown",
      "source": [
        "점진적 학습 : 앞서 훈련한 모델을 버리지 않고 새로운 데이터에 대해서만 조금씩 더 훈련하는 방식\n",
        "\n",
        "대표적인 점진적 학습 알고리즘은 **확률적 경사 하강법[Stochastic Gradient]**임"
      ],
      "metadata": {
        "id": "fitKgpctKfgK"
      }
    },
    {
      "cell_type": "markdown",
      "source": [
        "**확률적 경사 하강법(Stochastic Gradient Descent, SGD):**\n",
        "\n",
        "확률적 경사 하강법은 매 반복마다 하나의 훈련 데이터 포인트를 사용하여 모델을 업데이트합니다.\n",
        "랜덤성을 포함하므로 에포크를 반복할 때마다 다른 데이터 포인트를 선택합니다.\n",
        "빠른 업데이트로 빠른 수렴을 달성할 수 있지만, 노이즈가 많을 수 있습니다.\n",
        "\n",
        "**미니배치 경사 하강법(Mini-Batch Gradient Descent):**\n",
        "\n",
        "미니배치 경사 하강법은 데이터를 작은 미니배치로 나누어 각 미니배치에 대해 모델을 업데이트합니다.\n",
        "일반적으로 미니배치 크기는 2에서 수백 사이의 값으로 설정됩니다.\n",
        "미니배치 크기를 통해 일부 데이터의 패턴을 캡처하면서도 빠른 학습이 가능합니다.\n",
        "\n",
        "**배치 경사 하강법(Batch Gradient Descent):**\n",
        "\n",
        "배치 경사 하강법은 전체 데이터셋을 사용하여 모델을 업데이트합니다.\n",
        "모든 데이터를 고려하므로 정확한 그레이디언트를 계산할 수 있지만, 계산량이 많고 메모리를 많이 요구합니다.\n",
        "수렴이 느릴 수 있지만, 안정적인 업데이트를 제공합니다."
      ],
      "metadata": {
        "id": "h8xyZuiVMzd_"
      }
    },
    {
      "cell_type": "markdown",
      "metadata": {
        "id": "hnCwTs5KJp-t"
      },
      "source": [
        "8 00.\n",
        "08<table align=\"left\">\n",
        "  <td>\n",
        "    <a target=\"_blank\" href=\"https://colab.research.google.com/github/rickiepark/hg-mldl/blob/master/4-2.ipynb\"><img src=\"https://www.tensorflow.org/images/colab_logo_32px.png\" />구글 코랩에서 실행하기</a>\n",
        "  </td>\n",
        "</table>"
      ]
    },
    {
      "cell_type": "markdown",
      "metadata": {
        "id": "3x4OwaSIR50l"
      },
      "source": [
        "## SGDClassifier"
      ]
    },
    {
      "cell_type": "code",
      "execution_count": null,
      "metadata": {
        "id": "j3z-zKXoRmWB"
      },
      "outputs": [],
      "source": [
        "import pandas as pd\n",
        "\n",
        "fish = pd.read_csv('https://bit.ly/fish_csv_data')"
      ]
    },
    {
      "cell_type": "code",
      "execution_count": null,
      "metadata": {
        "id": "WAiJVY9nR1fF",
        "colab": {
          "base_uri": "https://localhost:8080/"
        },
        "outputId": "d9fc8bb1-27e9-4804-9244-3c260c8da9d8"
      },
      "outputs": [
        {
          "output_type": "execute_result",
          "data": {
            "text/plain": [
              "array(['Bream', 'Bream', 'Bream', 'Bream', 'Bream', 'Bream', 'Bream',\n",
              "       'Bream', 'Bream', 'Bream', 'Bream', 'Bream', 'Bream', 'Bream',\n",
              "       'Bream', 'Bream', 'Bream', 'Bream', 'Bream', 'Bream', 'Bream',\n",
              "       'Bream', 'Bream', 'Bream', 'Bream', 'Bream', 'Bream', 'Bream',\n",
              "       'Bream', 'Bream', 'Bream', 'Bream', 'Bream', 'Bream', 'Bream',\n",
              "       'Roach', 'Roach', 'Roach', 'Roach', 'Roach', 'Roach', 'Roach',\n",
              "       'Roach', 'Roach', 'Roach', 'Roach', 'Roach', 'Roach', 'Roach',\n",
              "       'Roach', 'Roach', 'Roach', 'Roach', 'Roach', 'Roach', 'Whitefish',\n",
              "       'Whitefish', 'Whitefish', 'Whitefish', 'Whitefish', 'Whitefish',\n",
              "       'Parkki', 'Parkki', 'Parkki', 'Parkki', 'Parkki', 'Parkki',\n",
              "       'Parkki', 'Parkki', 'Parkki', 'Parkki', 'Parkki', 'Perch', 'Perch',\n",
              "       'Perch', 'Perch', 'Perch', 'Perch', 'Perch', 'Perch', 'Perch',\n",
              "       'Perch', 'Perch', 'Perch', 'Perch', 'Perch', 'Perch', 'Perch',\n",
              "       'Perch', 'Perch', 'Perch', 'Perch', 'Perch', 'Perch', 'Perch',\n",
              "       'Perch', 'Perch', 'Perch', 'Perch', 'Perch', 'Perch', 'Perch',\n",
              "       'Perch', 'Perch', 'Perch', 'Perch', 'Perch', 'Perch', 'Perch',\n",
              "       'Perch', 'Perch', 'Perch', 'Perch', 'Perch', 'Perch', 'Perch',\n",
              "       'Perch', 'Perch', 'Perch', 'Perch', 'Perch', 'Perch', 'Perch',\n",
              "       'Perch', 'Perch', 'Perch', 'Perch', 'Perch', 'Pike', 'Pike',\n",
              "       'Pike', 'Pike', 'Pike', 'Pike', 'Pike', 'Pike', 'Pike', 'Pike',\n",
              "       'Pike', 'Pike', 'Pike', 'Pike', 'Pike', 'Pike', 'Pike', 'Smelt',\n",
              "       'Smelt', 'Smelt', 'Smelt', 'Smelt', 'Smelt', 'Smelt', 'Smelt',\n",
              "       'Smelt', 'Smelt', 'Smelt', 'Smelt', 'Smelt', 'Smelt'], dtype=object)"
            ]
          },
          "metadata": {},
          "execution_count": 35
        }
      ],
      "source": [
        "fish_input = fish[['Weight','Length','Diagonal','Height','Width']].to_numpy()\n",
        "fish_target = fish['Species'].to_numpy()\n",
        "fish_target"
      ]
    },
    {
      "cell_type": "markdown",
      "source": [
        "Species 열은 타겟 데이터, 나머지 5개 열은 입력데이터로 사용"
      ],
      "metadata": {
        "id": "0qOr5yb2PbEI"
      }
    },
    {
      "cell_type": "code",
      "execution_count": null,
      "metadata": {
        "id": "AW6LMW_URpto"
      },
      "outputs": [],
      "source": [
        "from sklearn.model_selection import train_test_split\n",
        "\n",
        "train_input, test_input, train_target, test_target = train_test_split(\n",
        "    fish_input, fish_target, random_state=42)"
      ]
    },
    {
      "cell_type": "markdown",
      "source": [
        "데이터를 훈련 세트와 테스트 세트로 나눔"
      ],
      "metadata": {
        "id": "0w_iVSXsP3A4"
      }
    },
    {
      "cell_type": "code",
      "execution_count": null,
      "metadata": {
        "id": "1RTAwK_DRutj"
      },
      "outputs": [],
      "source": [
        "from sklearn.preprocessing import StandardScaler\n",
        "\n",
        "ss = StandardScaler()\n",
        "ss.fit(train_input)\n",
        "train_scaled = ss.transform(train_input)\n",
        "test_scaled = ss.transform(test_input)"
      ]
    },
    {
      "cell_type": "markdown",
      "source": [
        "훈련 세트와 테스트 세트의 특성을 표준화 전처리 함\n",
        "\n",
        "꼭 훈련세트에서 학습한 통계값으로, 테스트 세트도 변환해야함\n",
        "\n",
        "```\n",
        "train_scaled = ss.transform(train_input)\n",
        "test_scaled = ss.transform(test_input)\n",
        "```"
      ],
      "metadata": {
        "id": "ctZXlqpjQZei"
      }
    },
    {
      "cell_type": "code",
      "execution_count": null,
      "metadata": {
        "id": "FSyujXY7sli6"
      },
      "outputs": [],
      "source": [
        "from sklearn.linear_model import SGDClassifier"
      ]
    },
    {
      "cell_type": "code",
      "execution_count": null,
      "metadata": {
        "colab": {
          "base_uri": "https://localhost:8080/"
        },
        "id": "KofoXhbwR9yu",
        "outputId": "b865f86f-4c36-4298-efaf-196f61388d4d"
      },
      "outputs": [
        {
          "output_type": "stream",
          "name": "stdout",
          "text": [
            "0.773109243697479\n",
            "0.775\n"
          ]
        },
        {
          "output_type": "stream",
          "name": "stderr",
          "text": [
            "/usr/local/lib/python3.10/dist-packages/sklearn/linear_model/_stochastic_gradient.py:702: ConvergenceWarning: Maximum number of iteration reached before convergence. Consider increasing max_iter to improve the fit.\n",
            "  warnings.warn(\n"
          ]
        }
      ],
      "source": [
        "sc = SGDClassifier(loss='log_loss', max_iter=10, random_state=42)\n",
        "sc.fit(train_scaled, train_target)\n",
        "\n",
        "print(sc.score(train_scaled, train_target))\n",
        "print(sc.score(test_scaled, test_target))"
      ]
    },
    {
      "cell_type": "markdown",
      "source": [
        "\n",
        "```\n",
        "max_iter=10\n",
        "```\n",
        "위 코드에서, 수행할 에포크 횟수를 10으로 지정하여, 전체 훈련 세트를 10회 반복함\n",
        "\n"
      ],
      "metadata": {
        "id": "RUUZbYOLRJCR"
      }
    },
    {
      "cell_type": "code",
      "execution_count": null,
      "metadata": {
        "colab": {
          "base_uri": "https://localhost:8080/"
        },
        "id": "duwA4N3eSUk5",
        "outputId": "957315f8-a8ed-4d18-dad3-ccfef1a15434"
      },
      "outputs": [
        {
          "output_type": "stream",
          "name": "stdout",
          "text": [
            "0.8151260504201681\n",
            "0.85\n"
          ]
        }
      ],
      "source": [
        "sc.partial_fit(train_scaled, train_target)\n",
        "\n",
        "print(sc.score(train_scaled, train_target))\n",
        "print(sc.score(test_scaled, test_target))"
      ]
    },
    {
      "cell_type": "markdown",
      "source": [
        "\n",
        "```\n",
        "sc.partial_fit()\n",
        "```\n",
        "메서드를 사용해, 1 에포크씩 이어서 훈련할 수 있음\n",
        "\n",
        "-> 점진적 학습\n"
      ],
      "metadata": {
        "id": "g3sESiriRgMz"
      }
    },
    {
      "cell_type": "markdown",
      "metadata": {
        "id": "TEtfnUQhzKO2"
      },
      "source": [
        "## 에포크와 과대/과소적합"
      ]
    },
    {
      "cell_type": "markdown",
      "source": [
        "적은 에포크 횟수 동안에 훈련한 모델 : 과소적합된 모델일 가능성이 높음\n",
        "\n",
        "많은 에포크 횟수 동안에 훈련한 모델 : 과대적합된 모델일 가능성이 높음"
      ],
      "metadata": {
        "id": "y2NkeltgR6Ef"
      }
    },
    {
      "cell_type": "markdown",
      "source": [
        "에포크가 진행됨에 따라, 정확도에 대한 훈련 세트 점수는 꾸준히 증가하지만, 테스트 세트 점수는 어느 순간 감소하기 시작함\n",
        "\n",
        "-> 이 지점이 모델이 과대적합되기 시작하는 곳\n",
        "\n",
        "과대적합이 시작하기 전에 훈련을 멈추는 것을 **조기종료[early stopping]**이라고 함"
      ],
      "metadata": {
        "id": "OVpJud87SJ9y"
      }
    },
    {
      "cell_type": "code",
      "execution_count": null,
      "metadata": {
        "id": "pt7BHZVZ-dWT"
      },
      "outputs": [],
      "source": [
        "import numpy as np\n",
        "\n",
        "sc = SGDClassifier(loss='log_loss', random_state=42)\n",
        "\n",
        "train_score = []\n",
        "test_score = []\n",
        "\n",
        "classes = np.unique(train_target)"
      ]
    },
    {
      "cell_type": "code",
      "execution_count": null,
      "metadata": {
        "id": "-65Gz13tVOP7"
      },
      "outputs": [],
      "source": [
        "for _ in range(0, 300):\n",
        "    sc.partial_fit(train_scaled, train_target, classes=classes)\n",
        "\n",
        "    train_score.append(sc.score(train_scaled, train_target))\n",
        "    test_score.append(sc.score(test_scaled, test_target))"
      ]
    },
    {
      "cell_type": "code",
      "execution_count": null,
      "metadata": {
        "colab": {
          "base_uri": "https://localhost:8080/",
          "height": 449
        },
        "id": "V19SzZJ5ZjSI",
        "outputId": "d75cd621-8d0e-4d08-cc09-e532dd56b0fc"
      },
      "outputs": [
        {
          "output_type": "display_data",
          "data": {
            "text/plain": [
              "<Figure size 640x480 with 1 Axes>"
            ],
            "image/png": "[encoded data removed]"
          },
          "metadata": {}
        }
      ],
      "source": [
        "import matplotlib.pyplot as plt\n",
        "\n",
        "plt.plot(train_score)\n",
        "plt.plot(test_score)\n",
        "plt.xlabel('epoch')\n",
        "plt.ylabel('accuracy')\n",
        "plt.show()"
      ]
    },
    {
      "cell_type": "code",
      "source": [
        "import matplotlib.pyplot as plt\n",
        "\n",
        "# train_score와 test_score 리스트가 이미 채워져 있다고 가정합니다.\n",
        "\n",
        "# 에포크(반복) 횟수\n",
        "epochs = range(1, len(train_score) + 1)\n",
        "\n",
        "# 훈련 점수와 테스트 점수를 그래프로 표현\n",
        "plt.plot(epochs, train_score, label='Train Score', marker='o')\n",
        "plt.plot(epochs, test_score, label='Test Score', marker='x')\n",
        "plt.xlabel('Epochs')\n",
        "plt.ylabel('Accuracy')\n",
        "plt.legend()\n",
        "plt.show()"
      ],
      "metadata": {
        "colab": {
          "base_uri": "https://localhost:8080/",
          "height": 449
        },
        "id": "MpUNOkBJsCgK",
        "outputId": "403e5f57-565d-4a7a-be60-2da482f3d40b"
      },
      "execution_count": null,
      "outputs": [
        {
          "output_type": "display_data",
          "data": {
            "text/plain": [
              "<Figure size 640x480 with 1 Axes>"
            ],
            "image/png": "[encoded data removed]"
          },
          "metadata": {}
        }
      ]
    },
    {
      "cell_type": "markdown",
      "source": [
        "300번의 에포크 동안 기록한 훈련 세트와 테스트 세트의 점수를 그래프로 그려보면, 100번째 에포크 이후에 훈련 세트와 테스트 세트의 점수가 조금씩 벌어지는 것으로 보임\n",
        "\n",
        "-> 이 모델의 경우 백 번째 에포크가 적절한 반복 횟수로 보여짐"
      ],
      "metadata": {
        "id": "_gByCCRySp61"
      }
    },
    {
      "cell_type": "code",
      "execution_count": null,
      "metadata": {
        "colab": {
          "base_uri": "https://localhost:8080/"
        },
        "id": "pdp2Ykst1K_I",
        "outputId": "0757c855-2f54-467b-acd9-35f88ba457e7"
      },
      "outputs": [
        {
          "output_type": "stream",
          "name": "stdout",
          "text": [
            "0.957983193277311\n",
            "0.925\n"
          ]
        }
      ],
      "source": [
        "sc = SGDClassifier(loss='log_loss', max_iter=100, tol=None, random_state=42)\n",
        "sc.fit(train_scaled, train_target)\n",
        "\n",
        "print(sc.score(train_scaled, train_target))\n",
        "print(sc.score(test_scaled, test_target))"
      ]
    },
    {
      "cell_type": "markdown",
      "source": [
        "SGDClassifier는 일정 에포크 동안 성능이 향상되지 않으면, 더 훈련하지 않고 자동으로 멈춤\n",
        "\n",
        "tol 매개 변수에서 향상될 최솟값을 지정하는데, 위 코드에서는 tol 매개변수를 None로 지정하여, 자동으로 멈추지 않고 max_iter=100만큼 무조건 반복하도록 하였음"
      ],
      "metadata": {
        "id": "DitbcUUoTHne"
      }
    },
    {
      "cell_type": "code",
      "execution_count": null,
      "metadata": {
        "colab": {
          "base_uri": "https://localhost:8080/"
        },
        "id": "OL7-y1kgIP4S",
        "outputId": "84746f66-15aa-413a-dc52-30aeb6c1e0c0"
      },
      "outputs": [
        {
          "output_type": "stream",
          "name": "stdout",
          "text": [
            "0.9495798319327731\n",
            "0.925\n"
          ]
        }
      ],
      "source": [
        "sc = SGDClassifier(loss='hinge', max_iter=100, tol=None, random_state=42)\n",
        "sc.fit(train_scaled, train_target)\n",
        "\n",
        "print(sc.score(train_scaled, train_target))\n",
        "print(sc.score(test_scaled, test_target))"
      ]
    },
    {
      "cell_type": "markdown",
      "source": [
        "loss 매개변수의 기본값은 'hinge'임\n",
        "\n",
        "**힌지 손실[hinge loss]**은 **서포트 벡터 머신[support vector machine]**이라 불리는 또 다른 머신러닝 알고리즘을 위한 손실 함수임"
      ],
      "metadata": {
        "id": "r_8zAuUtTgKj"
      }
    },
    {
      "cell_type": "code",
      "source": [],
      "metadata": {
        "id": "7P64DWrj-KaM"
      },
      "execution_count": null,
      "outputs": []
    }
  ],
  "metadata": {
    "colab": {
      "provenance": [],
      "include_colab_link": true
    },
    "kernelspec": {
      "display_name": "Python 3",
      "language": "python",
      "name": "python3"
    },
    "language_info": {
      "codemirror_mode": {
        "name": "ipython",
        "version": 3
      },
      "file_extension": ".py",
      "mimetype": "text/x-python",
      "name": "python",
      "nbconvert_exporter": "python",
      "pygments_lexer": "ipython3",
      "version": "3.7.3"
    }
  },
  "nbformat": 4,
  "nbformat_minor": 0
}