{
  "nbformat": 4,
  "nbformat_minor": 0,
  "metadata": {
    "colab": {
      "provenance": [],
      "authorship_tag": "ABX9TyM80xaGIVVPnQ7qz9KxQU8l",
      "include_colab_link": true
    },
    "kernelspec": {
      "name": "python3",
      "display_name": "Python 3"
    },
    "language_info": {
      "name": "python"
    }
  },
  "cells": [
    {
      "cell_type": "markdown",
      "metadata": {
        "id": "view-in-github",
        "colab_type": "text"
      },
      "source": [
        "<a href=\"https://colab.research.google.com/github/K1EH/GCU_MachineLearning/blob/main/ML_1%EC%B0%A8_%EA%B3%BC%EC%A0%9C.ipynb\" target=\"_parent\"><img src=\"https://colab.research.google.com/assets/colab-badge.svg\" alt=\"Open In Colab\"/></a>"
      ]
    },
    {
      "cell_type": "code",
      "source": [
        "from google.colab import drive\n",
        "drive.mount('/content/drive')"
      ],
      "metadata": {
        "colab": {
          "base_uri": "https://localhost:8080/"
        },
        "id": "oiwC0GSj_dHs",
        "outputId": "f58637ab-121c-4318-d66d-809f45f9f94a"
      },
      "execution_count": null,
      "outputs": [
        {
          "output_type": "stream",
          "name": "stdout",
          "text": [
            "Mounted at /content/drive\n"
          ]
        }
      ]
    },
    {
      "cell_type": "code",
      "execution_count": null,
      "metadata": {
        "id": "pc9sPFVk-4wi"
      },
      "outputs": [],
      "source": [
        "import pandas as pd\n",
        "titanic= pd.read_csv(\"/content/drive/MyDrive/Colab Notebooks/sources/train.csv\")"
      ]
    },
    {
      "cell_type": "code",
      "source": [
        "titanic.head()"
      ],
      "metadata": {
        "colab": {
          "base_uri": "https://localhost:8080/",
          "height": 397
        },
        "id": "LsSt-RF0_Htn",
        "outputId": "2a0e1b45-e471-4367-8061-84366fd7e438"
      },
      "execution_count": null,
      "outputs": [
        {
          "output_type": "execute_result",
          "data": {
            "text/plain": [
              "   PassengerId  Survived  Pclass  \\\n",
              "0            1         0       3   \n",
              "1            2         1       1   \n",
              "2            3         1       3   \n",
              "3            4         1       1   \n",
              "4            5         0       3   \n",
              "\n",
              "                                                Name     Sex   Age  SibSp  \\\n",
              "0                            Braund, Mr. Owen Harris    male  22.0      1   \n",
              "1  Cumings, Mrs. John Bradley (Florence Briggs Th...  female  38.0      1   \n",
              "2                             Heikkinen, Miss. Laina  female  26.0      0   \n",
              "3       Futrelle, Mrs. Jacques Heath (Lily May Peel)  female  35.0      1   \n",
              "4                           Allen, Mr. William Henry    male  35.0      0   \n",
              "\n",
              "   Parch            Ticket     Fare Cabin Embarked  \n",
              "0      0         A/5 21171   7.2500   NaN        S  \n",
              "1      0          PC 17599  71.2833   C85        C  \n",
              "2      0  STON/O2. 3101282   7.9250   NaN        S  \n",
              "3      0            113803  53.1000  C123        S  \n",
              "4      0            373450   8.0500   NaN        S  "
            ],
            "text/html": [
              "\n",
              "  <div id=\"df-824294ad-970f-4331-96f2-d712de18f0ce\" class=\"colab-df-container\">\n",
              "    <div>\n",
              "<style scoped>\n",
              "    .dataframe tbody tr th:only-of-type {\n",
              "        vertical-align: middle;\n",
              "    }\n",
              "\n",
              "    .dataframe tbody tr th {\n",
              "        vertical-align: top;\n",
              "    }\n",
              "\n",
              "    .dataframe thead th {\n",
              "        text-align: right;\n",
              "    }\n",
              "</style>\n",
              "<table border=\"1\" class=\"dataframe\">\n",
              "  <thead>\n",
              "    <tr style=\"text-align: right;\">\n",
              "      <th></th>\n",
              "      <th>PassengerId</th>\n",
              "      <th>Survived</th>\n",
              "      <th>Pclass</th>\n",
              "      <th>Name</th>\n",
              "      <th>Sex</th>\n",
              "      <th>Age</th>\n",
              "      <th>SibSp</th>\n",
              "      <th>Parch</th>\n",
              "      <th>Ticket</th>\n",
              "      <th>Fare</th>\n",
              "      <th>Cabin</th>\n",
              "      <th>Embarked</th>\n",
              "    </tr>\n",
              "  </thead>\n",
              "  <tbody>\n",
              "    <tr>\n",
              "      <th>0</th>\n",
              "      <td>1</td>\n",
              "      <td>0</td>\n",
              "      <td>3</td>\n",
              "      <td>Braund, Mr. Owen Harris</td>\n",
              "      <td>male</td>\n",
              "      <td>22.0</td>\n",
              "      <td>1</td>\n",
              "      <td>0</td>\n",
              "      <td>A/5 21171</td>\n",
              "      <td>7.2500</td>\n",
              "      <td>NaN</td>\n",
              "      <td>S</td>\n",
              "    </tr>\n",
              "    <tr>\n",
              "      <th>1</th>\n",
              "      <td>2</td>\n",
              "      <td>1</td>\n",
              "      <td>1</td>\n",
              "      <td>Cumings, Mrs. John Bradley (Florence Briggs Th...</td>\n",
              "      <td>female</td>\n",
              "      <td>38.0</td>\n",
              "      <td>1</td>\n",
              "      <td>0</td>\n",
              "      <td>PC 17599</td>\n",
              "      <td>71.2833</td>\n",
              "      <td>C85</td>\n",
              "      <td>C</td>\n",
              "    </tr>\n",
              "    <tr>\n",
              "      <th>2</th>\n",
              "      <td>3</td>\n",
              "      <td>1</td>\n",
              "      <td>3</td>\n",
              "      <td>Heikkinen, Miss. Laina</td>\n",
              "      <td>female</td>\n",
              "      <td>26.0</td>\n",
              "      <td>0</td>\n",
              "      <td>0</td>\n",
              "      <td>STON/O2. 3101282</td>\n",
              "      <td>7.9250</td>\n",
              "      <td>NaN</td>\n",
              "      <td>S</td>\n",
              "    </tr>\n",
              "    <tr>\n",
              "      <th>3</th>\n",
              "      <td>4</td>\n",
              "      <td>1</td>\n",
              "      <td>1</td>\n",
              "      <td>Futrelle, Mrs. Jacques Heath (Lily May Peel)</td>\n",
              "      <td>female</td>\n",
              "      <td>35.0</td>\n",
              "      <td>1</td>\n",
              "      <td>0</td>\n",
              "      <td>113803</td>\n",
              "      <td>53.1000</td>\n",
              "      <td>C123</td>\n",
              "      <td>S</td>\n",
              "    </tr>\n",
              "    <tr>\n",
              "      <th>4</th>\n",
              "      <td>5</td>\n",
              "      <td>0</td>\n",
              "      <td>3</td>\n",
              "      <td>Allen, Mr. William Henry</td>\n",
              "      <td>male</td>\n",
              "      <td>35.0</td>\n",
              "      <td>0</td>\n",
              "      <td>0</td>\n",
              "      <td>373450</td>\n",
              "      <td>8.0500</td>\n",
              "      <td>NaN</td>\n",
              "      <td>S</td>\n",
              "    </tr>\n",
              "  </tbody>\n",
              "</table>\n",
              "</div>\n",
              "    <div class=\"colab-df-buttons\">\n",
              "\n",
              "  <div class=\"colab-df-container\">\n",
              "    <button class=\"colab-df-convert\" onclick=\"convertToInteractive('df-824294ad-970f-4331-96f2-d712de18f0ce')\"\n",
              "            title=\"Convert this dataframe to an interactive table.\"\n",
              "            style=\"display:none;\">\n",
              "\n",
              "  <svg xmlns=\"http://www.w3.org/2000/svg\" height=\"24px\" viewBox=\"0 -960 960 960\">\n",
              "    <path d=\"M120-120v-720h720v720H120Zm60-500h600v-160H180v160Zm220 220h160v-160H400v160Zm0 220h160v-160H400v160ZM180-400h160v-160H180v160Zm440 0h160v-160H620v160ZM180-180h160v-160H180v160Zm440 0h160v-160H620v160Z\"/>\n",
              "  </svg>\n",
              "    </button>\n",
              "\n",
              "  <style>\n",
              "    .colab-df-container {\n",
              "      display:flex;\n",
              "      gap: 12px;\n",
              "    }\n",
              "\n",
              "    .colab-df-convert {\n",
              "      background-color: #E8F0FE;\n",
              "      border: none;\n",
              "      border-radius: 50%;\n",
              "      cursor: pointer;\n",
              "      display: none;\n",
              "      fill: #1967D2;\n",
              "      height: 32px;\n",
              "      padding: 0 0 0 0;\n",
              "      width: 32px;\n",
              "    }\n",
              "\n",
              "    .colab-df-convert:hover {\n",
              "      background-color: #E2EBFA;\n",
              "      box-shadow: 0px 1px 2px rgba(60, 64, 67, 0.3), 0px 1px 3px 1px rgba(60, 64, 67, 0.15);\n",
              "      fill: #174EA6;\n",
              "    }\n",
              "\n",
              "    .colab-df-buttons div {\n",
              "      margin-bottom: 4px;\n",
              "    }\n",
              "\n",
              "    [theme=dark] .colab-df-convert {\n",
              "      background-color: #3B4455;\n",
              "      fill: #D2E3FC;\n",
              "    }\n",
              "\n",
              "    [theme=dark] .colab-df-convert:hover {\n",
              "      background-color: #434B5C;\n",
              "      box-shadow: 0px 1px 3px 1px rgba(0, 0, 0, 0.15);\n",
              "      filter: drop-shadow(0px 1px 2px rgba(0, 0, 0, 0.3));\n",
              "      fill: #FFFFFF;\n",
              "    }\n",
              "  </style>\n",
              "\n",
              "    <script>\n",
              "      const buttonEl =\n",
              "        document.querySelector('#df-824294ad-970f-4331-96f2-d712de18f0ce button.colab-df-convert');\n",
              "      buttonEl.style.display =\n",
              "        google.colab.kernel.accessAllowed ? 'block' : 'none';\n",
              "\n",
              "      async function convertToInteractive(key) {\n",
              "        const element = document.querySelector('#df-824294ad-970f-4331-96f2-d712de18f0ce');\n",
              "        const dataTable =\n",
              "          await google.colab.kernel.invokeFunction('convertToInteractive',\n",
              "                                                    [key], {});\n",
              "        if (!dataTable) return;\n",
              "\n",
              "        const docLinkHtml = 'Like what you see? Visit the ' +\n",
              "          '<a target=\"_blank\" href=https://colab.research.google.com/notebooks/data_table.ipynb>data table notebook</a>'\n",
              "          + ' to learn more about interactive tables.';\n",
              "        element.innerHTML = '';\n",
              "        dataTable['output_type'] = 'display_data';\n",
              "        await google.colab.output.renderOutput(dataTable, element);\n",
              "        const docLink = document.createElement('div');\n",
              "        docLink.innerHTML = docLinkHtml;\n",
              "        element.appendChild(docLink);\n",
              "      }\n",
              "    </script>\n",
              "  </div>\n",
              "\n",
              "\n",
              "<div id=\"df-6eb68990-a252-44fe-a84e-50da391beacc\">\n",
              "  <button class=\"colab-df-quickchart\" onclick=\"quickchart('df-6eb68990-a252-44fe-a84e-50da391beacc')\"\n",
              "            title=\"Suggest charts.\"\n",
              "            style=\"display:none;\">\n",
              "\n",
              "<svg xmlns=\"http://www.w3.org/2000/svg\" height=\"24px\"viewBox=\"0 0 24 24\"\n",
              "     width=\"24px\">\n",
              "    <g>\n",
              "        <path d=\"M19 3H5c-1.1 0-2 .9-2 2v14c0 1.1.9 2 2 2h14c1.1 0 2-.9 2-2V5c0-1.1-.9-2-2-2zM9 17H7v-7h2v7zm4 0h-2V7h2v10zm4 0h-2v-4h2v4z\"/>\n",
              "    </g>\n",
              "</svg>\n",
              "  </button>\n",
              "\n",
              "<style>\n",
              "  .colab-df-quickchart {\n",
              "      --bg-color: #E8F0FE;\n",
              "      --fill-color: #1967D2;\n",
              "      --hover-bg-color: #E2EBFA;\n",
              "      --hover-fill-color: #174EA6;\n",
              "      --disabled-fill-color: #AAA;\n",
              "      --disabled-bg-color: #DDD;\n",
              "  }\n",
              "\n",
              "  [theme=dark] .colab-df-quickchart {\n",
              "      --bg-color: #3B4455;\n",
              "      --fill-color: #D2E3FC;\n",
              "      --hover-bg-color: #434B5C;\n",
              "      --hover-fill-color: #FFFFFF;\n",
              "      --disabled-bg-color: #3B4455;\n",
              "      --disabled-fill-color: #666;\n",
              "  }\n",
              "\n",
              "  .colab-df-quickchart {\n",
              "    background-color: var(--bg-color);\n",
              "    border: none;\n",
              "    border-radius: 50%;\n",
              "    cursor: pointer;\n",
              "    display: none;\n",
              "    fill: var(--fill-color);\n",
              "    height: 32px;\n",
              "    padding: 0;\n",
              "    width: 32px;\n",
              "  }\n",
              "\n",
              "  .colab-df-quickchart:hover {\n",
              "    background-color: var(--hover-bg-color);\n",
              "    box-shadow: 0 1px 2px rgba(60, 64, 67, 0.3), 0 1px 3px 1px rgba(60, 64, 67, 0.15);\n",
              "    fill: var(--button-hover-fill-color);\n",
              "  }\n",
              "\n",
              "  .colab-df-quickchart-complete:disabled,\n",
              "  .colab-df-quickchart-complete:disabled:hover {\n",
              "    background-color: var(--disabled-bg-color);\n",
              "    fill: var(--disabled-fill-color);\n",
              "    box-shadow: none;\n",
              "  }\n",
              "\n",
              "  .colab-df-spinner {\n",
              "    border: 2px solid var(--fill-color);\n",
              "    border-color: transparent;\n",
              "    border-bottom-color: var(--fill-color);\n",
              "    animation:\n",
              "      spin 1s steps(1) infinite;\n",
              "  }\n",
              "\n",
              "  @keyframes spin {\n",
              "    0% {\n",
              "      border-color: transparent;\n",
              "      border-bottom-color: var(--fill-color);\n",
              "      border-left-color: var(--fill-color);\n",
              "    }\n",
              "    20% {\n",
              "      border-color: transparent;\n",
              "      border-left-color: var(--fill-color);\n",
              "      border-top-color: var(--fill-color);\n",
              "    }\n",
              "    30% {\n",
              "      border-color: transparent;\n",
              "      border-left-color: var(--fill-color);\n",
              "      border-top-color: var(--fill-color);\n",
              "      border-right-color: var(--fill-color);\n",
              "    }\n",
              "    40% {\n",
              "      border-color: transparent;\n",
              "      border-right-color: var(--fill-color);\n",
              "      border-top-color: var(--fill-color);\n",
              "    }\n",
              "    60% {\n",
              "      border-color: transparent;\n",
              "      border-right-color: var(--fill-color);\n",
              "    }\n",
              "    80% {\n",
              "      border-color: transparent;\n",
              "      border-right-color: var(--fill-color);\n",
              "      border-bottom-color: var(--fill-color);\n",
              "    }\n",
              "    90% {\n",
              "      border-color: transparent;\n",
              "      border-bottom-color: var(--fill-color);\n",
              "    }\n",
              "  }\n",
              "</style>\n",
              "\n",
              "  <script>\n",
              "    async function quickchart(key) {\n",
              "      const quickchartButtonEl =\n",
              "        document.querySelector('#' + key + ' button');\n",
              "      quickchartButtonEl.disabled = true;  // To prevent multiple clicks.\n",
              "      quickchartButtonEl.classList.add('colab-df-spinner');\n",
              "      try {\n",
              "        const charts = await google.colab.kernel.invokeFunction(\n",
              "            'suggestCharts', [key], {});\n",
              "      } catch (error) {\n",
              "        console.error('Error during call to suggestCharts:', error);\n",
              "      }\n",
              "      quickchartButtonEl.classList.remove('colab-df-spinner');\n",
              "      quickchartButtonEl.classList.add('colab-df-quickchart-complete');\n",
              "    }\n",
              "    (() => {\n",
              "      let quickchartButtonEl =\n",
              "        document.querySelector('#df-6eb68990-a252-44fe-a84e-50da391beacc button');\n",
              "      quickchartButtonEl.style.display =\n",
              "        google.colab.kernel.accessAllowed ? 'block' : 'none';\n",
              "    })();\n",
              "  </script>\n",
              "</div>\n",
              "    </div>\n",
              "  </div>\n"
            ]
          },
          "metadata": {},
          "execution_count": 3
        }
      ]
    },
    {
      "cell_type": "markdown",
      "source": [
        "## 데이터 전처리"
      ],
      "metadata": {
        "id": "GiIWiJugEGgk"
      }
    },
    {
      "cell_type": "code",
      "source": [
        "titanic.info()"
      ],
      "metadata": {
        "colab": {
          "base_uri": "https://localhost:8080/"
        },
        "id": "FU718lHb_tS8",
        "outputId": "7de0c9e3-838e-4243-f86e-4eb55db7df7c"
      },
      "execution_count": null,
      "outputs": [
        {
          "output_type": "stream",
          "name": "stdout",
          "text": [
            "<class 'pandas.core.frame.DataFrame'>\n",
            "RangeIndex: 891 entries, 0 to 890\n",
            "Data columns (total 12 columns):\n",
            " #   Column       Non-Null Count  Dtype  \n",
            "---  ------       --------------  -----  \n",
            " 0   PassengerId  891 non-null    int64  \n",
            " 1   Survived     891 non-null    int64  \n",
            " 2   Pclass       891 non-null    int64  \n",
            " 3   Name         891 non-null    object \n",
            " 4   Sex          891 non-null    object \n",
            " 5   Age          714 non-null    float64\n",
            " 6   SibSp        891 non-null    int64  \n",
            " 7   Parch        891 non-null    int64  \n",
            " 8   Ticket       891 non-null    object \n",
            " 9   Fare         891 non-null    float64\n",
            " 10  Cabin        204 non-null    object \n",
            " 11  Embarked     889 non-null    object \n",
            "dtypes: float64(2), int64(5), object(5)\n",
            "memory usage: 83.7+ KB\n"
          ]
        }
      ]
    },
    {
      "cell_type": "markdown",
      "source": [
        "![image.png](data:image/png;base64,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)"
      ],
      "metadata": {
        "id": "spyhfvuKExw7"
      }
    },
    {
      "cell_type": "code",
      "source": [
        "from sklearn.preprocessing import LabelEncoder\n",
        "\n",
        "# LabelEncoder를 생성하고 \"Sex\" 열을 변환 0 : female, 1 : male\n",
        "label_encoder = LabelEncoder()\n",
        "titanic[\"Sex\"] = label_encoder.fit_transform(titanic[\"Sex\"])\n",
        "\n",
        "titanic.head()"
      ],
      "metadata": {
        "colab": {
          "base_uri": "https://localhost:8080/",
          "height": 345
        },
        "id": "A-5rUPiVEJmA",
        "outputId": "5d9a2f2d-2d87-439e-aad4-84334916124a"
      },
      "execution_count": null,
      "outputs": [
        {
          "output_type": "execute_result",
          "data": {
            "text/plain": [
              "   PassengerId  Survived  Pclass  \\\n",
              "0            1         0       3   \n",
              "1            2         1       1   \n",
              "2            3         1       3   \n",
              "3            4         1       1   \n",
              "4            5         0       3   \n",
              "\n",
              "                                                Name  Sex   Age  SibSp  Parch  \\\n",
              "0                            Braund, Mr. Owen Harris    1  22.0      1      0   \n",
              "1  Cumings, Mrs. John Bradley (Florence Briggs Th...    0  38.0      1      0   \n",
              "2                             Heikkinen, Miss. Laina    0  26.0      0      0   \n",
              "3       Futrelle, Mrs. Jacques Heath (Lily May Peel)    0  35.0      1      0   \n",
              "4                           Allen, Mr. William Henry    1  35.0      0      0   \n",
              "\n",
              "             Ticket     Fare Cabin Embarked  \n",
              "0         A/5 21171   7.2500   NaN        S  \n",
              "1          PC 17599  71.2833   C85        C  \n",
              "2  STON/O2. 3101282   7.9250   NaN        S  \n",
              "3            113803  53.1000  C123        S  \n",
              "4            373450   8.0500   NaN        S  "
            ],
            "text/html": [
              "\n",
              "  <div id=\"df-e8f00157-c82b-4e37-90ff-d36bdc91c176\" class=\"colab-df-container\">\n",
              "    <div>\n",
              "<style scoped>\n",
              "    .dataframe tbody tr th:only-of-type {\n",
              "        vertical-align: middle;\n",
              "    }\n",
              "\n",
              "    .dataframe tbody tr th {\n",
              "        vertical-align: top;\n",
              "    }\n",
              "\n",
              "    .dataframe thead th {\n",
              "        text-align: right;\n",
              "    }\n",
              "</style>\n",
              "<table border=\"1\" class=\"dataframe\">\n",
              "  <thead>\n",
              "    <tr style=\"text-align: right;\">\n",
              "      <th></th>\n",
              "      <th>PassengerId</th>\n",
              "      <th>Survived</th>\n",
              "      <th>Pclass</th>\n",
              "      <th>Name</th>\n",
              "      <th>Sex</th>\n",
              "      <th>Age</th>\n",
              "      <th>SibSp</th>\n",
              "      <th>Parch</th>\n",
              "      <th>Ticket</th>\n",
              "      <th>Fare</th>\n",
              "      <th>Cabin</th>\n",
              "      <th>Embarked</th>\n",
              "    </tr>\n",
              "  </thead>\n",
              "  <tbody>\n",
              "    <tr>\n",
              "      <th>0</th>\n",
              "      <td>1</td>\n",
              "      <td>0</td>\n",
              "      <td>3</td>\n",
              "      <td>Braund, Mr. Owen Harris</td>\n",
              "      <td>1</td>\n",
              "      <td>22.0</td>\n",
              "      <td>1</td>\n",
              "      <td>0</td>\n",
              "      <td>A/5 21171</td>\n",
              "      <td>7.2500</td>\n",
              "      <td>NaN</td>\n",
              "      <td>S</td>\n",
              "    </tr>\n",
              "    <tr>\n",
              "      <th>1</th>\n",
              "      <td>2</td>\n",
              "      <td>1</td>\n",
              "      <td>1</td>\n",
              "      <td>Cumings, Mrs. John Bradley (Florence Briggs Th...</td>\n",
              "      <td>0</td>\n",
              "      <td>38.0</td>\n",
              "      <td>1</td>\n",
              "      <td>0</td>\n",
              "      <td>PC 17599</td>\n",
              "      <td>71.2833</td>\n",
              "      <td>C85</td>\n",
              "      <td>C</td>\n",
              "    </tr>\n",
              "    <tr>\n",
              "      <th>2</th>\n",
              "      <td>3</td>\n",
              "      <td>1</td>\n",
              "      <td>3</td>\n",
              "      <td>Heikkinen, Miss. Laina</td>\n",
              "      <td>0</td>\n",
              "      <td>26.0</td>\n",
              "      <td>0</td>\n",
              "      <td>0</td>\n",
              "      <td>STON/O2. 3101282</td>\n",
              "      <td>7.9250</td>\n",
              "      <td>NaN</td>\n",
              "      <td>S</td>\n",
              "    </tr>\n",
              "    <tr>\n",
              "      <th>3</th>\n",
              "      <td>4</td>\n",
              "      <td>1</td>\n",
              "      <td>1</td>\n",
              "      <td>Futrelle, Mrs. Jacques Heath (Lily May Peel)</td>\n",
              "      <td>0</td>\n",
              "      <td>35.0</td>\n",
              "      <td>1</td>\n",
              "      <td>0</td>\n",
              "      <td>113803</td>\n",
              "      <td>53.1000</td>\n",
              "      <td>C123</td>\n",
              "      <td>S</td>\n",
              "    </tr>\n",
              "    <tr>\n",
              "      <th>4</th>\n",
              "      <td>5</td>\n",
              "      <td>0</td>\n",
              "      <td>3</td>\n",
              "      <td>Allen, Mr. William Henry</td>\n",
              "      <td>1</td>\n",
              "      <td>35.0</td>\n",
              "      <td>0</td>\n",
              "      <td>0</td>\n",
              "      <td>373450</td>\n",
              "      <td>8.0500</td>\n",
              "      <td>NaN</td>\n",
              "      <td>S</td>\n",
              "    </tr>\n",
              "  </tbody>\n",
              "</table>\n",
              "</div>\n",
              "    <div class=\"colab-df-buttons\">\n",
              "\n",
              "  <div class=\"colab-df-container\">\n",
              "    <button class=\"colab-df-convert\" onclick=\"convertToInteractive('df-e8f00157-c82b-4e37-90ff-d36bdc91c176')\"\n",
              "            title=\"Convert this dataframe to an interactive table.\"\n",
              "            style=\"display:none;\">\n",
              "\n",
              "  <svg xmlns=\"http://www.w3.org/2000/svg\" height=\"24px\" viewBox=\"0 -960 960 960\">\n",
              "    <path d=\"M120-120v-720h720v720H120Zm60-500h600v-160H180v160Zm220 220h160v-160H400v160Zm0 220h160v-160H400v160ZM180-400h160v-160H180v160Zm440 0h160v-160H620v160ZM180-180h160v-160H180v160Zm440 0h160v-160H620v160Z\"/>\n",
              "  </svg>\n",
              "    </button>\n",
              "\n",
              "  <style>\n",
              "    .colab-df-container {\n",
              "      display:flex;\n",
              "      gap: 12px;\n",
              "    }\n",
              "\n",
              "    .colab-df-convert {\n",
              "      background-color: #E8F0FE;\n",
              "      border: none;\n",
              "      border-radius: 50%;\n",
              "      cursor: pointer;\n",
              "      display: none;\n",
              "      fill: #1967D2;\n",
              "      height: 32px;\n",
              "      padding: 0 0 0 0;\n",
              "      width: 32px;\n",
              "    }\n",
              "\n",
              "    .colab-df-convert:hover {\n",
              "      background-color: #E2EBFA;\n",
              "      box-shadow: 0px 1px 2px rgba(60, 64, 67, 0.3), 0px 1px 3px 1px rgba(60, 64, 67, 0.15);\n",
              "      fill: #174EA6;\n",
              "    }\n",
              "\n",
              "    .colab-df-buttons div {\n",
              "      margin-bottom: 4px;\n",
              "    }\n",
              "\n",
              "    [theme=dark] .colab-df-convert {\n",
              "      background-color: #3B4455;\n",
              "      fill: #D2E3FC;\n",
              "    }\n",
              "\n",
              "    [theme=dark] .colab-df-convert:hover {\n",
              "      background-color: #434B5C;\n",
              "      box-shadow: 0px 1px 3px 1px rgba(0, 0, 0, 0.15);\n",
              "      filter: drop-shadow(0px 1px 2px rgba(0, 0, 0, 0.3));\n",
              "      fill: #FFFFFF;\n",
              "    }\n",
              "  </style>\n",
              "\n",
              "    <script>\n",
              "      const buttonEl =\n",
              "        document.querySelector('#df-e8f00157-c82b-4e37-90ff-d36bdc91c176 button.colab-df-convert');\n",
              "      buttonEl.style.display =\n",
              "        google.colab.kernel.accessAllowed ? 'block' : 'none';\n",
              "\n",
              "      async function convertToInteractive(key) {\n",
              "        const element = document.querySelector('#df-e8f00157-c82b-4e37-90ff-d36bdc91c176');\n",
              "        const dataTable =\n",
              "          await google.colab.kernel.invokeFunction('convertToInteractive',\n",
              "                                                    [key], {});\n",
              "        if (!dataTable) return;\n",
              "\n",
              "        const docLinkHtml = 'Like what you see? Visit the ' +\n",
              "          '<a target=\"_blank\" href=https://colab.research.google.com/notebooks/data_table.ipynb>data table notebook</a>'\n",
              "          + ' to learn more about interactive tables.';\n",
              "        element.innerHTML = '';\n",
              "        dataTable['output_type'] = 'display_data';\n",
              "        await google.colab.output.renderOutput(dataTable, element);\n",
              "        const docLink = document.createElement('div');\n",
              "        docLink.innerHTML = docLinkHtml;\n",
              "        element.appendChild(docLink);\n",
              "      }\n",
              "    </script>\n",
              "  </div>\n",
              "\n",
              "\n",
              "<div id=\"df-ab4532df-f2de-4f09-ab59-95c309342aa2\">\n",
              "  <button class=\"colab-df-quickchart\" onclick=\"quickchart('df-ab4532df-f2de-4f09-ab59-95c309342aa2')\"\n",
              "            title=\"Suggest charts.\"\n",
              "            style=\"display:none;\">\n",
              "\n",
              "<svg xmlns=\"http://www.w3.org/2000/svg\" height=\"24px\"viewBox=\"0 0 24 24\"\n",
              "     width=\"24px\">\n",
              "    <g>\n",
              "        <path d=\"M19 3H5c-1.1 0-2 .9-2 2v14c0 1.1.9 2 2 2h14c1.1 0 2-.9 2-2V5c0-1.1-.9-2-2-2zM9 17H7v-7h2v7zm4 0h-2V7h2v10zm4 0h-2v-4h2v4z\"/>\n",
              "    </g>\n",
              "</svg>\n",
              "  </button>\n",
              "\n",
              "<style>\n",
              "  .colab-df-quickchart {\n",
              "      --bg-color: #E8F0FE;\n",
              "      --fill-color: #1967D2;\n",
              "      --hover-bg-color: #E2EBFA;\n",
              "      --hover-fill-color: #174EA6;\n",
              "      --disabled-fill-color: #AAA;\n",
              "      --disabled-bg-color: #DDD;\n",
              "  }\n",
              "\n",
              "  [theme=dark] .colab-df-quickchart {\n",
              "      --bg-color: #3B4455;\n",
              "      --fill-color: #D2E3FC;\n",
              "      --hover-bg-color: #434B5C;\n",
              "      --hover-fill-color: #FFFFFF;\n",
              "      --disabled-bg-color: #3B4455;\n",
              "      --disabled-fill-color: #666;\n",
              "  }\n",
              "\n",
              "  .colab-df-quickchart {\n",
              "    background-color: var(--bg-color);\n",
              "    border: none;\n",
              "    border-radius: 50%;\n",
              "    cursor: pointer;\n",
              "    display: none;\n",
              "    fill: var(--fill-color);\n",
              "    height: 32px;\n",
              "    padding: 0;\n",
              "    width: 32px;\n",
              "  }\n",
              "\n",
              "  .colab-df-quickchart:hover {\n",
              "    background-color: var(--hover-bg-color);\n",
              "    box-shadow: 0 1px 2px rgba(60, 64, 67, 0.3), 0 1px 3px 1px rgba(60, 64, 67, 0.15);\n",
              "    fill: var(--button-hover-fill-color);\n",
              "  }\n",
              "\n",
              "  .colab-df-quickchart-complete:disabled,\n",
              "  .colab-df-quickchart-complete:disabled:hover {\n",
              "    background-color: var(--disabled-bg-color);\n",
              "    fill: var(--disabled-fill-color);\n",
              "    box-shadow: none;\n",
              "  }\n",
              "\n",
              "  .colab-df-spinner {\n",
              "    border: 2px solid var(--fill-color);\n",
              "    border-color: transparent;\n",
              "    border-bottom-color: var(--fill-color);\n",
              "    animation:\n",
              "      spin 1s steps(1) infinite;\n",
              "  }\n",
              "\n",
              "  @keyframes spin {\n",
              "    0% {\n",
              "      border-color: transparent;\n",
              "      border-bottom-color: var(--fill-color);\n",
              "      border-left-color: var(--fill-color);\n",
              "    }\n",
              "    20% {\n",
              "      border-color: transparent;\n",
              "      border-left-color: var(--fill-color);\n",
              "      border-top-color: var(--fill-color);\n",
              "    }\n",
              "    30% {\n",
              "      border-color: transparent;\n",
              "      border-left-color: var(--fill-color);\n",
              "      border-top-color: var(--fill-color);\n",
              "      border-right-color: var(--fill-color);\n",
              "    }\n",
              "    40% {\n",
              "      border-color: transparent;\n",
              "      border-right-color: var(--fill-color);\n",
              "      border-top-color: var(--fill-color);\n",
              "    }\n",
              "    60% {\n",
              "      border-color: transparent;\n",
              "      border-right-color: var(--fill-color);\n",
              "    }\n",
              "    80% {\n",
              "      border-color: transparent;\n",
              "      border-right-color: var(--fill-color);\n",
              "      border-bottom-color: var(--fill-color);\n",
              "    }\n",
              "    90% {\n",
              "      border-color: transparent;\n",
              "      border-bottom-color: var(--fill-color);\n",
              "    }\n",
              "  }\n",
              "</style>\n",
              "\n",
              "  <script>\n",
              "    async function quickchart(key) {\n",
              "      const quickchartButtonEl =\n",
              "        document.querySelector('#' + key + ' button');\n",
              "      quickchartButtonEl.disabled = true;  // To prevent multiple clicks.\n",
              "      quickchartButtonEl.classList.add('colab-df-spinner');\n",
              "      try {\n",
              "        const charts = await google.colab.kernel.invokeFunction(\n",
              "            'suggestCharts', [key], {});\n",
              "      } catch (error) {\n",
              "        console.error('Error during call to suggestCharts:', error);\n",
              "      }\n",
              "      quickchartButtonEl.classList.remove('colab-df-spinner');\n",
              "      quickchartButtonEl.classList.add('colab-df-quickchart-complete');\n",
              "    }\n",
              "    (() => {\n",
              "      let quickchartButtonEl =\n",
              "        document.querySelector('#df-ab4532df-f2de-4f09-ab59-95c309342aa2 button');\n",
              "      quickchartButtonEl.style.display =\n",
              "        google.colab.kernel.accessAllowed ? 'block' : 'none';\n",
              "    })();\n",
              "  </script>\n",
              "</div>\n",
              "    </div>\n",
              "  </div>\n"
            ]
          },
          "metadata": {},
          "execution_count": 5
        }
      ]
    },
    {
      "cell_type": "markdown",
      "source": [
        "**왜 이런 파리미터를 수정하는가?**\n",
        "\n",
        "Sex[성별] 데이터는 문자열 female, male로 이루어져 있다.\n",
        "\n",
        "머신러닝 알고리즘은 일반적으로 문자열 데이터보다 숫자 데이터를 다루는데 더 효과적이므로,\n",
        "\n",
        "0 : female, 1 : male과 같이 수정하였다."
      ],
      "metadata": {
        "id": "-Q8Bjq98IdCW"
      }
    },
    {
      "cell_type": "markdown",
      "source": [
        "### 결측치 확인"
      ],
      "metadata": {
        "id": "5eOPODJjFiEX"
      }
    },
    {
      "cell_type": "code",
      "source": [
        "# 결측치 확인\n",
        "missing = titanic.isnull().sum()\n",
        "print(missing)"
      ],
      "metadata": {
        "colab": {
          "base_uri": "https://localhost:8080/"
        },
        "id": "3Nv5orROFkfX",
        "outputId": "c5d31a87-a93c-4c85-d22f-df48cdb6f8bd"
      },
      "execution_count": null,
      "outputs": [
        {
          "output_type": "stream",
          "name": "stdout",
          "text": [
            "PassengerId      0\n",
            "Survived         0\n",
            "Pclass           0\n",
            "Name             0\n",
            "Sex              0\n",
            "Age            177\n",
            "SibSp            0\n",
            "Parch            0\n",
            "Ticket           0\n",
            "Fare             0\n",
            "Cabin          687\n",
            "Embarked         2\n",
            "dtype: int64\n"
          ]
        }
      ]
    },
    {
      "cell_type": "code",
      "source": [
        "# 나이 결측치는 평균으로 변환\n",
        "titanic['Age'].fillna(titanic['Age'].mean(), inplace=True)"
      ],
      "metadata": {
        "id": "5W6BAfsVSKsp"
      },
      "execution_count": null,
      "outputs": []
    },
    {
      "cell_type": "markdown",
      "source": [
        "### 상관관계 확인"
      ],
      "metadata": {
        "id": "EJuHlduyGL8G"
      }
    },
    {
      "cell_type": "code",
      "source": [
        "import matplotlib.pyplot as plt\n",
        "import seaborn as sns\n",
        "\n",
        "correlation_matrix = titanic.corr().round(1)\n",
        "plt.figure(figsize=(10, 6))\n",
        "sns.heatmap(data=correlation_matrix, annot=True, cmap='bwr')\n",
        "plt.show()"
      ],
      "metadata": {
        "colab": {
          "base_uri": "https://localhost:8080/",
          "height": 587
        },
        "id": "PdjWYoRMGQGi",
        "outputId": "d3b12cf4-9a2e-440b-99b3-dfd1204d9f9f"
      },
      "execution_count": null,
      "outputs": [
        {
          "output_type": "stream",
          "name": "stderr",
          "text": [
            "<ipython-input-8-8f2278aa70fd>:4: FutureWarning: The default value of numeric_only in DataFrame.corr is deprecated. In a future version, it will default to False. Select only valid columns or specify the value of numeric_only to silence this warning.\n",
            "  correlation_matrix = titanic.corr().round(1)\n"
          ]
        },
        {
          "output_type": "display_data",
          "data": {
            "text/plain": [
              "<Figure size 1000x600 with 2 Axes>"
            ],
            "image/png": "[encoded data removed]"
          },
          "metadata": {}
        }
      ]
    },
    {
      "cell_type": "code",
      "source": [
        "titanic.columns"
      ],
      "metadata": {
        "colab": {
          "base_uri": "https://localhost:8080/"
        },
        "id": "UTy18NGnDC3L",
        "outputId": "4f775e25-fdea-4d63-f0bd-6d78823266d6"
      },
      "execution_count": null,
      "outputs": [
        {
          "output_type": "execute_result",
          "data": {
            "text/plain": [
              "Index(['PassengerId', 'Survived', 'Pclass', 'Name', 'Sex', 'Age', 'SibSp',\n",
              "       'Parch', 'Ticket', 'Fare', 'Cabin', 'Embarked'],\n",
              "      dtype='object')"
            ]
          },
          "metadata": {},
          "execution_count": 9
        }
      ]
    },
    {
      "cell_type": "markdown",
      "source": [
        "**왜 이런 파라미터를 최종적으로 선택했는가?**\n",
        "\n",
        "Name[이름], PassengerId[승객의 고유 식별번호], Embarked[승선 항구], Ticket[티켓 번호]는 승객의 생존 여부에 영향을 미치지 않는다고 판단하여 제외하였다.\n",
        "\n",
        "Cabin[객실 번호]는 타이타닉 호의 비상 탈출구나 구명정과 가깝거나 멀다는 데이터가 있다면 유용하겠지만, 그렇지 않고 결측치가 많으므로 제외하였다.\n",
        "\n",
        "Sibsp[함께 탑승한 형제자매 또는 배우자의 수]는 상관관계 표에서 목표 변수 Survived[생존 여부]와의 상관관계가 0이므로 제외하였다."
      ],
      "metadata": {
        "id": "PoHYU0zdIWOe"
      }
    },
    {
      "cell_type": "markdown",
      "source": [
        "## 훈련 세트와 테스트 세트 만들기"
      ],
      "metadata": {
        "id": "QnjrfiydLeUL"
      }
    },
    {
      "cell_type": "code",
      "source": [
        "from sklearn.model_selection import train_test_split\n",
        "\n",
        "#80%의 데이터를 훈련 세트로, 20%의 데이터를 테스트 세트로\n",
        "X = titanic[['Pclass', 'Age', 'Parch', 'Fare', 'Sex']].to_numpy()\n",
        "y = titanic['Survived'].to_numpy()\n",
        "\n",
        "train_input, test_input, train_target, test_target = train_test_split(X, y, test_size = 0.2, random_state=202035254)"
      ],
      "metadata": {
        "id": "p1wYq8bfG23z"
      },
      "execution_count": null,
      "outputs": []
    },
    {
      "cell_type": "code",
      "source": [
        "from sklearn.preprocessing import PolynomialFeatures\n",
        "poly = PolynomialFeatures(include_bias=False)\n",
        "\n",
        "poly.fit(train_input)\n",
        "train_poly = poly.transform(train_input)\n",
        "test_poly = poly.transform(test_input)\n",
        "\n",
        "poly.get_feature_names_out()"
      ],
      "metadata": {
        "colab": {
          "base_uri": "https://localhost:8080/"
        },
        "id": "8Z2Q7x67Qdb-",
        "outputId": "a802e2d5-4dca-4205-fc5c-aaf5e077d054"
      },
      "execution_count": null,
      "outputs": [
        {
          "output_type": "execute_result",
          "data": {
            "text/plain": [
              "array(['x0', 'x1', 'x2', 'x3', 'x4', 'x0^2', 'x0 x1', 'x0 x2', 'x0 x3',\n",
              "       'x0 x4', 'x1^2', 'x1 x2', 'x1 x3', 'x1 x4', 'x2^2', 'x2 x3',\n",
              "       'x2 x4', 'x3^2', 'x3 x4', 'x4^2'], dtype=object)"
            ]
          },
          "metadata": {},
          "execution_count": 14
        }
      ]
    },
    {
      "cell_type": "code",
      "source": [
        "from sklearn.preprocessing import StandardScaler\n",
        "\n",
        "ss = StandardScaler()\n",
        "ss.fit(train_poly)\n",
        "\n",
        "train_scaled = ss.transform(train_poly)\n",
        "test_scaled = ss.transform(test_poly)"
      ],
      "metadata": {
        "id": "xZqrISjmO7Fi"
      },
      "execution_count": null,
      "outputs": []
    },
    {
      "cell_type": "markdown",
      "source": [
        "**왜 이렇게 훈련 및 테스트 세트를 만들었는가?**\n"
      ],
      "metadata": {
        "id": "rzrLaYS6J7mo"
      }
    },
    {
      "cell_type": "markdown",
      "source": [
        "### 확률적 경사 하강법"
      ],
      "metadata": {
        "id": "IDQ4D9SpOoDh"
      }
    },
    {
      "cell_type": "code",
      "source": [
        "from sklearn.linear_model import SGDClassifier\n",
        "sc = SGDClassifier(loss='log_loss', max_iter=10, random_state=202035254)\n",
        "sc.fit(train_scaled, train_target)\n",
        "\n",
        "print(sc.score(train_scaled, train_target))\n",
        "print(sc.score(test_scaled, test_target))"
      ],
      "metadata": {
        "colab": {
          "base_uri": "https://localhost:8080/"
        },
        "id": "Kg4HM_dTHbpf",
        "outputId": "ad16ada1-0768-4869-9097-3bdb2b59842b"
      },
      "execution_count": null,
      "outputs": [
        {
          "output_type": "stream",
          "name": "stdout",
          "text": [
            "0.7921348314606742\n",
            "0.770949720670391\n"
          ]
        },
        {
          "output_type": "stream",
          "name": "stderr",
          "text": [
            "/usr/local/lib/python3.10/dist-packages/sklearn/linear_model/_stochastic_gradient.py:702: ConvergenceWarning: Maximum number of iteration reached before convergence. Consider increasing max_iter to improve the fit.\n",
            "  warnings.warn(\n"
          ]
        }
      ]
    },
    {
      "cell_type": "code",
      "source": [
        "import numpy as np\n",
        "\n",
        "sc = SGDClassifier(loss='log_loss', random_state=202035254)\n",
        "\n",
        "train_score = []\n",
        "test_score = []\n",
        "\n",
        "classes = np.unique(train_target)"
      ],
      "metadata": {
        "id": "q7AriTHuCfz5"
      },
      "execution_count": null,
      "outputs": []
    },
    {
      "cell_type": "code",
      "source": [
        "for _ in range(0, 500):\n",
        "    sc.partial_fit(train_scaled, train_target, classes=classes)\n",
        "\n",
        "    train_score.append(sc.score(train_scaled, train_target))\n",
        "    test_score.append(sc.score(test_scaled, test_target))"
      ],
      "metadata": {
        "id": "qPohI0vvPlWK"
      },
      "execution_count": null,
      "outputs": []
    },
    {
      "cell_type": "code",
      "source": [
        "import matplotlib.pyplot as plt\n",
        "\n",
        "plt.plot(train_score)\n",
        "plt.plot(test_score)\n",
        "plt.xlabel('epoch')\n",
        "plt.ylabel('accuracy')\n",
        "plt.show()"
      ],
      "metadata": {
        "colab": {
          "base_uri": "https://localhost:8080/",
          "height": 449
        },
        "id": "EuePfSXVPn1R",
        "outputId": "09419438-179e-4cec-e5e6-2b9ca8a4cce1"
      },
      "execution_count": null,
      "outputs": [
        {
          "output_type": "display_data",
          "data": {
            "text/plain": [
              "<Figure size 640x480 with 1 Axes>"
            ],
            "image/png": "[encoded data removed]"
          },
          "metadata": {}
        }
      ]
    },
    {
      "cell_type": "code",
      "source": [
        "import matplotlib.pyplot as plt\n",
        "\n",
        "# train_score와 test_score 리스트가 이미 채워져 있다고 가정합니다.\n",
        "\n",
        "# 에포크(반복) 횟수\n",
        "epochs = range(1, len(train_score) + 1)\n",
        "\n",
        "# 훈련 점수와 테스트 점수를 그래프로 표현\n",
        "plt.plot(epochs, train_score, label='Train Score', marker='o')\n",
        "plt.plot(epochs, test_score, label='Test Score', marker='x')\n",
        "plt.xlabel('Epochs')\n",
        "plt.ylabel('Accuracy')\n",
        "plt.legend()\n",
        "plt.show()"
      ],
      "metadata": {
        "colab": {
          "base_uri": "https://localhost:8080/",
          "height": 449
        },
        "id": "TSuKEZ8fQBX0",
        "outputId": "28965748-2b76-47c6-ada0-d6f8c0cf5460"
      },
      "execution_count": null,
      "outputs": [
        {
          "output_type": "display_data",
          "data": {
            "text/plain": [
              "<Figure size 640x480 with 1 Axes>"
            ],
            "image/png": "[encoded data removed]"
          },
          "metadata": {}
        }
      ]
    },
    {
      "cell_type": "code",
      "source": [
        "sc = SGDClassifier(loss='log_loss', max_iter=478, tol=None, random_state=202035254)\n",
        "sc.fit(train_scaled, train_target)\n",
        "\n",
        "print(sc.score(train_scaled, train_target))\n",
        "print(sc.score(test_scaled, test_target))"
      ],
      "metadata": {
        "colab": {
          "base_uri": "https://localhost:8080/"
        },
        "id": "559HEl9XRXuj",
        "outputId": "14064006-d407-4841-fee5-be5d96044cef"
      },
      "execution_count": null,
      "outputs": [
        {
          "output_type": "stream",
          "name": "stdout",
          "text": [
            "0.8160112359550562\n",
            "0.8100558659217877\n"
          ]
        }
      ]
    },
    {
      "cell_type": "markdown",
      "source": [
        "### Decision Tree"
      ],
      "metadata": {
        "id": "TBtoLmjWICNj"
      }
    },
    {
      "cell_type": "code",
      "source": [
        "from sklearn.tree import DecisionTreeClassifier\n",
        "\n",
        "dt = DecisionTreeClassifier(random_state=202035254)\n",
        "dt.fit(train_scaled, train_target)\n",
        "\n",
        "print(dt.score(train_scaled, train_target))\n",
        "print(dt.score(test_scaled, test_target))"
      ],
      "metadata": {
        "colab": {
          "base_uri": "https://localhost:8080/"
        },
        "id": "_3txkKXEZAuF",
        "outputId": "37da1542-b612-4c9a-9279-631021d7250e"
      },
      "execution_count": null,
      "outputs": [
        {
          "output_type": "stream",
          "name": "stdout",
          "text": [
            "0.9803370786516854\n",
            "0.8491620111731844\n"
          ]
        }
      ]
    },
    {
      "cell_type": "code",
      "source": [
        "from sklearn.tree import DecisionTreeClassifier\n",
        "from sklearn.model_selection import GridSearchCV\n",
        "\n",
        "# 튜닝할 하이퍼파라미터 그리드 정의\n",
        "param_grid = {\n",
        "    'max_depth': [None, 10, 20, 30],  # 최대 깊이\n",
        "    'min_samples_split': [2, 5, 10],  # 분할 최소 샘플 수\n",
        "    'min_samples_leaf': [1, 2, 4],  # 리프 노드 최소 샘플 수\n",
        "    'max_features': ['auto', 'sqrt', 'log2']  # 고려할 최대 특성 수\n",
        "}\n",
        "\n",
        "# 그리드 서치를 사용한 하이퍼파라미터 튜닝\n",
        "grid_search = GridSearchCV(DecisionTreeClassifier(random_state=202035254), param_grid, cv=5)\n",
        "grid_search.fit(train_scaled, train_target)\n",
        "\n",
        "# 최적의 모델 출력\n",
        "best_model = grid_search.best_estimator_\n",
        "print(\"Best Model:\", best_model)\n",
        "\n",
        "# 훈련 세트 정확도 및 테스트 세트 정확도 출력\n",
        "print(\"Training Accuracy:\", best_model.score(train_scaled, train_target))\n",
        "print(\"Test Accuracy:\", best_model.score(test_scaled, test_target))"
      ],
      "metadata": {
        "colab": {
          "base_uri": "https://localhost:8080/"
        },
        "id": "4Re5-7W-bUn_",
        "outputId": "09319e99-f66b-4915-a57d-2e824403252a"
      },
      "execution_count": null,
      "outputs": [
        {
          "output_type": "stream",
          "name": "stderr",
          "text": [
            "/usr/local/lib/python3.10/dist-packages/sklearn/tree/_classes.py:269: FutureWarning: `max_features='auto'` has been deprecated in 1.1 and will be removed in 1.3. To keep the past behaviour, explicitly set `max_features='sqrt'`.\n",
            "  warnings.warn(\n",
            "/usr/local/lib/python3.10/dist-packages/sklearn/tree/_classes.py:269: FutureWarning: `max_features='auto'` has been deprecated in 1.1 and will be removed in 1.3. To keep the past behaviour, explicitly set `max_features='sqrt'`.\n",
            "  warnings.warn(\n",
            "/usr/local/lib/python3.10/dist-packages/sklearn/tree/_classes.py:269: FutureWarning: `max_features='auto'` has been deprecated in 1.1 and will be removed in 1.3. To keep the past behaviour, explicitly set `max_features='sqrt'`.\n",
            "  warnings.warn(\n",
            "/usr/local/lib/python3.10/dist-packages/sklearn/tree/_classes.py:269: FutureWarning: `max_features='auto'` has been deprecated in 1.1 and will be removed in 1.3. To keep the past behaviour, explicitly set `max_features='sqrt'`.\n",
            "  warnings.warn(\n",
            "/usr/local/lib/python3.10/dist-packages/sklearn/tree/_classes.py:269: FutureWarning: `max_features='auto'` has been deprecated in 1.1 and will be removed in 1.3. To keep the past behaviour, explicitly set `max_features='sqrt'`.\n",
            "  warnings.warn(\n",
            "/usr/local/lib/python3.10/dist-packages/sklearn/tree/_classes.py:269: FutureWarning: `max_features='auto'` has been deprecated in 1.1 and will be removed in 1.3. To keep the past behaviour, explicitly set `max_features='sqrt'`.\n",
            "  warnings.warn(\n",
            "/usr/local/lib/python3.10/dist-packages/sklearn/tree/_classes.py:269: FutureWarning: `max_features='auto'` has been deprecated in 1.1 and will be removed in 1.3. To keep the past behaviour, explicitly set `max_features='sqrt'`.\n",
            "  warnings.warn(\n",
            "/usr/local/lib/python3.10/dist-packages/sklearn/tree/_classes.py:269: FutureWarning: `max_features='auto'` has been deprecated in 1.1 and will be removed in 1.3. To keep the past behaviour, explicitly set `max_features='sqrt'`.\n",
            "  warnings.warn(\n",
            "/usr/local/lib/python3.10/dist-packages/sklearn/tree/_classes.py:269: FutureWarning: `max_features='auto'` has been deprecated in 1.1 and will be removed in 1.3. To keep the past behaviour, explicitly set `max_features='sqrt'`.\n",
            "  warnings.warn(\n",
            "/usr/local/lib/python3.10/dist-packages/sklearn/tree/_classes.py:269: FutureWarning: `max_features='auto'` has been deprecated in 1.1 and will be removed in 1.3. To keep the past behaviour, explicitly set `max_features='sqrt'`.\n",
            "  warnings.warn(\n",
            "/usr/local/lib/python3.10/dist-packages/sklearn/tree/_classes.py:269: FutureWarning: `max_features='auto'` has been deprecated in 1.1 and will be removed in 1.3. To keep the past behaviour, explicitly set `max_features='sqrt'`.\n",
            "  warnings.warn(\n",
            "/usr/local/lib/python3.10/dist-packages/sklearn/tree/_classes.py:269: FutureWarning: `max_features='auto'` has been deprecated in 1.1 and will be removed in 1.3. To keep the past behaviour, explicitly set `max_features='sqrt'`.\n",
            "  warnings.warn(\n",
            "/usr/local/lib/python3.10/dist-packages/sklearn/tree/_classes.py:269: FutureWarning: `max_features='auto'` has been deprecated in 1.1 and will be removed in 1.3. To keep the past behaviour, explicitly set `max_features='sqrt'`.\n",
            "  warnings.warn(\n",
            "/usr/local/lib/python3.10/dist-packages/sklearn/tree/_classes.py:269: FutureWarning: `max_features='auto'` has been deprecated in 1.1 and will be removed in 1.3. To keep the past behaviour, explicitly set `max_features='sqrt'`.\n",
            "  warnings.warn(\n",
            "/usr/local/lib/python3.10/dist-packages/sklearn/tree/_classes.py:269: FutureWarning: `max_features='auto'` has been deprecated in 1.1 and will be removed in 1.3. To keep the past behaviour, explicitly set `max_features='sqrt'`.\n",
            "  warnings.warn(\n",
            "/usr/local/lib/python3.10/dist-packages/sklearn/tree/_classes.py:269: FutureWarning: `max_features='auto'` has been deprecated in 1.1 and will be removed in 1.3. To keep the past behaviour, explicitly set `max_features='sqrt'`.\n",
            "  warnings.warn(\n",
            "/usr/local/lib/python3.10/dist-packages/sklearn/tree/_classes.py:269: FutureWarning: `max_features='auto'` has been deprecated in 1.1 and will be removed in 1.3. To keep the past behaviour, explicitly set `max_features='sqrt'`.\n",
            "  warnings.warn(\n",
            "/usr/local/lib/python3.10/dist-packages/sklearn/tree/_classes.py:269: FutureWarning: `max_features='auto'` has been deprecated in 1.1 and will be removed in 1.3. To keep the past behaviour, explicitly set `max_features='sqrt'`.\n",
            "  warnings.warn(\n",
            "/usr/local/lib/python3.10/dist-packages/sklearn/tree/_classes.py:269: FutureWarning: `max_features='auto'` has been deprecated in 1.1 and will be removed in 1.3. To keep the past behaviour, explicitly set `max_features='sqrt'`.\n",
            "  warnings.warn(\n",
            "/usr/local/lib/python3.10/dist-packages/sklearn/tree/_classes.py:269: FutureWarning: `max_features='auto'` has been deprecated in 1.1 and will be removed in 1.3. To keep the past behaviour, explicitly set `max_features='sqrt'`.\n",
            "  warnings.warn(\n",
            "/usr/local/lib/python3.10/dist-packages/sklearn/tree/_classes.py:269: FutureWarning: `max_features='auto'` has been deprecated in 1.1 and will be removed in 1.3. To keep the past behaviour, explicitly set `max_features='sqrt'`.\n",
            "  warnings.warn(\n",
            "/usr/local/lib/python3.10/dist-packages/sklearn/tree/_classes.py:269: FutureWarning: `max_features='auto'` has been deprecated in 1.1 and will be removed in 1.3. To keep the past behaviour, explicitly set `max_features='sqrt'`.\n",
            "  warnings.warn(\n",
            "/usr/local/lib/python3.10/dist-packages/sklearn/tree/_classes.py:269: FutureWarning: `max_features='auto'` has been deprecated in 1.1 and will be removed in 1.3. To keep the past behaviour, explicitly set `max_features='sqrt'`.\n",
            "  warnings.warn(\n",
            "/usr/local/lib/python3.10/dist-packages/sklearn/tree/_classes.py:269: FutureWarning: `max_features='auto'` has been deprecated in 1.1 and will be removed in 1.3. To keep the past behaviour, explicitly set `max_features='sqrt'`.\n",
            "  warnings.warn(\n",
            "/usr/local/lib/python3.10/dist-packages/sklearn/tree/_classes.py:269: FutureWarning: `max_features='auto'` has been deprecated in 1.1 and will be removed in 1.3. To keep the past behaviour, explicitly set `max_features='sqrt'`.\n",
            "  warnings.warn(\n",
            "/usr/local/lib/python3.10/dist-packages/sklearn/tree/_classes.py:269: FutureWarning: `max_features='auto'` has been deprecated in 1.1 and will be removed in 1.3. To keep the past behaviour, explicitly set `max_features='sqrt'`.\n",
            "  warnings.warn(\n",
            "/usr/local/lib/python3.10/dist-packages/sklearn/tree/_classes.py:269: FutureWarning: `max_features='auto'` has been deprecated in 1.1 and will be removed in 1.3. To keep the past behaviour, explicitly set `max_features='sqrt'`.\n",
            "  warnings.warn(\n",
            "/usr/local/lib/python3.10/dist-packages/sklearn/tree/_classes.py:269: FutureWarning: `max_features='auto'` has been deprecated in 1.1 and will be removed in 1.3. To keep the past behaviour, explicitly set `max_features='sqrt'`.\n",
            "  warnings.warn(\n",
            "/usr/local/lib/python3.10/dist-packages/sklearn/tree/_classes.py:269: FutureWarning: `max_features='auto'` has been deprecated in 1.1 and will be removed in 1.3. To keep the past behaviour, explicitly set `max_features='sqrt'`.\n",
            "  warnings.warn(\n",
            "/usr/local/lib/python3.10/dist-packages/sklearn/tree/_classes.py:269: FutureWarning: `max_features='auto'` has been deprecated in 1.1 and will be removed in 1.3. To keep the past behaviour, explicitly set `max_features='sqrt'`.\n",
            "  warnings.warn(\n",
            "/usr/local/lib/python3.10/dist-packages/sklearn/tree/_classes.py:269: FutureWarning: `max_features='auto'` has been deprecated in 1.1 and will be removed in 1.3. To keep the past behaviour, explicitly set `max_features='sqrt'`.\n",
            "  warnings.warn(\n",
            "/usr/local/lib/python3.10/dist-packages/sklearn/tree/_classes.py:269: FutureWarning: `max_features='auto'` has been deprecated in 1.1 and will be removed in 1.3. To keep the past behaviour, explicitly set `max_features='sqrt'`.\n",
            "  warnings.warn(\n",
            "/usr/local/lib/python3.10/dist-packages/sklearn/tree/_classes.py:269: FutureWarning: `max_features='auto'` has been deprecated in 1.1 and will be removed in 1.3. To keep the past behaviour, explicitly set `max_features='sqrt'`.\n",
            "  warnings.warn(\n",
            "/usr/local/lib/python3.10/dist-packages/sklearn/tree/_classes.py:269: FutureWarning: `max_features='auto'` has been deprecated in 1.1 and will be removed in 1.3. To keep the past behaviour, explicitly set `max_features='sqrt'`.\n",
            "  warnings.warn(\n",
            "/usr/local/lib/python3.10/dist-packages/sklearn/tree/_classes.py:269: FutureWarning: `max_features='auto'` has been deprecated in 1.1 and will be removed in 1.3. To keep the past behaviour, explicitly set `max_features='sqrt'`.\n",
            "  warnings.warn(\n",
            "/usr/local/lib/python3.10/dist-packages/sklearn/tree/_classes.py:269: FutureWarning: `max_features='auto'` has been deprecated in 1.1 and will be removed in 1.3. To keep the past behaviour, explicitly set `max_features='sqrt'`.\n",
            "  warnings.warn(\n",
            "/usr/local/lib/python3.10/dist-packages/sklearn/tree/_classes.py:269: FutureWarning: `max_features='auto'` has been deprecated in 1.1 and will be removed in 1.3. To keep the past behaviour, explicitly set `max_features='sqrt'`.\n",
            "  warnings.warn(\n",
            "/usr/local/lib/python3.10/dist-packages/sklearn/tree/_classes.py:269: FutureWarning: `max_features='auto'` has been deprecated in 1.1 and will be removed in 1.3. To keep the past behaviour, explicitly set `max_features='sqrt'`.\n",
            "  warnings.warn(\n",
            "/usr/local/lib/python3.10/dist-packages/sklearn/tree/_classes.py:269: FutureWarning: `max_features='auto'` has been deprecated in 1.1 and will be removed in 1.3. To keep the past behaviour, explicitly set `max_features='sqrt'`.\n",
            "  warnings.warn(\n",
            "/usr/local/lib/python3.10/dist-packages/sklearn/tree/_classes.py:269: FutureWarning: `max_features='auto'` has been deprecated in 1.1 and will be removed in 1.3. To keep the past behaviour, explicitly set `max_features='sqrt'`.\n",
            "  warnings.warn(\n",
            "/usr/local/lib/python3.10/dist-packages/sklearn/tree/_classes.py:269: FutureWarning: `max_features='auto'` has been deprecated in 1.1 and will be removed in 1.3. To keep the past behaviour, explicitly set `max_features='sqrt'`.\n",
            "  warnings.warn(\n",
            "/usr/local/lib/python3.10/dist-packages/sklearn/tree/_classes.py:269: FutureWarning: `max_features='auto'` has been deprecated in 1.1 and will be removed in 1.3. To keep the past behaviour, explicitly set `max_features='sqrt'`.\n",
            "  warnings.warn(\n",
            "/usr/local/lib/python3.10/dist-packages/sklearn/tree/_classes.py:269: FutureWarning: `max_features='auto'` has been deprecated in 1.1 and will be removed in 1.3. To keep the past behaviour, explicitly set `max_features='sqrt'`.\n",
            "  warnings.warn(\n",
            "/usr/local/lib/python3.10/dist-packages/sklearn/tree/_classes.py:269: FutureWarning: `max_features='auto'` has been deprecated in 1.1 and will be removed in 1.3. To keep the past behaviour, explicitly set `max_features='sqrt'`.\n",
            "  warnings.warn(\n",
            "/usr/local/lib/python3.10/dist-packages/sklearn/tree/_classes.py:269: FutureWarning: `max_features='auto'` has been deprecated in 1.1 and will be removed in 1.3. To keep the past behaviour, explicitly set `max_features='sqrt'`.\n",
            "  warnings.warn(\n",
            "/usr/local/lib/python3.10/dist-packages/sklearn/tree/_classes.py:269: FutureWarning: `max_features='auto'` has been deprecated in 1.1 and will be removed in 1.3. To keep the past behaviour, explicitly set `max_features='sqrt'`.\n",
            "  warnings.warn(\n",
            "/usr/local/lib/python3.10/dist-packages/sklearn/tree/_classes.py:269: FutureWarning: `max_features='auto'` has been deprecated in 1.1 and will be removed in 1.3. To keep the past behaviour, explicitly set `max_features='sqrt'`.\n",
            "  warnings.warn(\n",
            "/usr/local/lib/python3.10/dist-packages/sklearn/tree/_classes.py:269: FutureWarning: `max_features='auto'` has been deprecated in 1.1 and will be removed in 1.3. To keep the past behaviour, explicitly set `max_features='sqrt'`.\n",
            "  warnings.warn(\n",
            "/usr/local/lib/python3.10/dist-packages/sklearn/tree/_classes.py:269: FutureWarning: `max_features='auto'` has been deprecated in 1.1 and will be removed in 1.3. To keep the past behaviour, explicitly set `max_features='sqrt'`.\n",
            "  warnings.warn(\n",
            "/usr/local/lib/python3.10/dist-packages/sklearn/tree/_classes.py:269: FutureWarning: `max_features='auto'` has been deprecated in 1.1 and will be removed in 1.3. To keep the past behaviour, explicitly set `max_features='sqrt'`.\n",
            "  warnings.warn(\n",
            "/usr/local/lib/python3.10/dist-packages/sklearn/tree/_classes.py:269: FutureWarning: `max_features='auto'` has been deprecated in 1.1 and will be removed in 1.3. To keep the past behaviour, explicitly set `max_features='sqrt'`.\n",
            "  warnings.warn(\n",
            "/usr/local/lib/python3.10/dist-packages/sklearn/tree/_classes.py:269: FutureWarning: `max_features='auto'` has been deprecated in 1.1 and will be removed in 1.3. To keep the past behaviour, explicitly set `max_features='sqrt'`.\n",
            "  warnings.warn(\n",
            "/usr/local/lib/python3.10/dist-packages/sklearn/tree/_classes.py:269: FutureWarning: `max_features='auto'` has been deprecated in 1.1 and will be removed in 1.3. To keep the past behaviour, explicitly set `max_features='sqrt'`.\n",
            "  warnings.warn(\n",
            "/usr/local/lib/python3.10/dist-packages/sklearn/tree/_classes.py:269: FutureWarning: `max_features='auto'` has been deprecated in 1.1 and will be removed in 1.3. To keep the past behaviour, explicitly set `max_features='sqrt'`.\n",
            "  warnings.warn(\n",
            "/usr/local/lib/python3.10/dist-packages/sklearn/tree/_classes.py:269: FutureWarning: `max_features='auto'` has been deprecated in 1.1 and will be removed in 1.3. To keep the past behaviour, explicitly set `max_features='sqrt'`.\n",
            "  warnings.warn(\n",
            "/usr/local/lib/python3.10/dist-packages/sklearn/tree/_classes.py:269: FutureWarning: `max_features='auto'` has been deprecated in 1.1 and will be removed in 1.3. To keep the past behaviour, explicitly set `max_features='sqrt'`.\n",
            "  warnings.warn(\n",
            "/usr/local/lib/python3.10/dist-packages/sklearn/tree/_classes.py:269: FutureWarning: `max_features='auto'` has been deprecated in 1.1 and will be removed in 1.3. To keep the past behaviour, explicitly set `max_features='sqrt'`.\n",
            "  warnings.warn(\n",
            "/usr/local/lib/python3.10/dist-packages/sklearn/tree/_classes.py:269: FutureWarning: `max_features='auto'` has been deprecated in 1.1 and will be removed in 1.3. To keep the past behaviour, explicitly set `max_features='sqrt'`.\n",
            "  warnings.warn(\n",
            "/usr/local/lib/python3.10/dist-packages/sklearn/tree/_classes.py:269: FutureWarning: `max_features='auto'` has been deprecated in 1.1 and will be removed in 1.3. To keep the past behaviour, explicitly set `max_features='sqrt'`.\n",
            "  warnings.warn(\n",
            "/usr/local/lib/python3.10/dist-packages/sklearn/tree/_classes.py:269: FutureWarning: `max_features='auto'` has been deprecated in 1.1 and will be removed in 1.3. To keep the past behaviour, explicitly set `max_features='sqrt'`.\n",
            "  warnings.warn(\n",
            "/usr/local/lib/python3.10/dist-packages/sklearn/tree/_classes.py:269: FutureWarning: `max_features='auto'` has been deprecated in 1.1 and will be removed in 1.3. To keep the past behaviour, explicitly set `max_features='sqrt'`.\n",
            "  warnings.warn(\n",
            "/usr/local/lib/python3.10/dist-packages/sklearn/tree/_classes.py:269: FutureWarning: `max_features='auto'` has been deprecated in 1.1 and will be removed in 1.3. To keep the past behaviour, explicitly set `max_features='sqrt'`.\n",
            "  warnings.warn(\n",
            "/usr/local/lib/python3.10/dist-packages/sklearn/tree/_classes.py:269: FutureWarning: `max_features='auto'` has been deprecated in 1.1 and will be removed in 1.3. To keep the past behaviour, explicitly set `max_features='sqrt'`.\n",
            "  warnings.warn(\n",
            "/usr/local/lib/python3.10/dist-packages/sklearn/tree/_classes.py:269: FutureWarning: `max_features='auto'` has been deprecated in 1.1 and will be removed in 1.3. To keep the past behaviour, explicitly set `max_features='sqrt'`.\n",
            "  warnings.warn(\n",
            "/usr/local/lib/python3.10/dist-packages/sklearn/tree/_classes.py:269: FutureWarning: `max_features='auto'` has been deprecated in 1.1 and will be removed in 1.3. To keep the past behaviour, explicitly set `max_features='sqrt'`.\n",
            "  warnings.warn(\n",
            "/usr/local/lib/python3.10/dist-packages/sklearn/tree/_classes.py:269: FutureWarning: `max_features='auto'` has been deprecated in 1.1 and will be removed in 1.3. To keep the past behaviour, explicitly set `max_features='sqrt'`.\n",
            "  warnings.warn(\n",
            "/usr/local/lib/python3.10/dist-packages/sklearn/tree/_classes.py:269: FutureWarning: `max_features='auto'` has been deprecated in 1.1 and will be removed in 1.3. To keep the past behaviour, explicitly set `max_features='sqrt'`.\n",
            "  warnings.warn(\n",
            "/usr/local/lib/python3.10/dist-packages/sklearn/tree/_classes.py:269: FutureWarning: `max_features='auto'` has been deprecated in 1.1 and will be removed in 1.3. To keep the past behaviour, explicitly set `max_features='sqrt'`.\n",
            "  warnings.warn(\n",
            "/usr/local/lib/python3.10/dist-packages/sklearn/tree/_classes.py:269: FutureWarning: `max_features='auto'` has been deprecated in 1.1 and will be removed in 1.3. To keep the past behaviour, explicitly set `max_features='sqrt'`.\n",
            "  warnings.warn(\n",
            "/usr/local/lib/python3.10/dist-packages/sklearn/tree/_classes.py:269: FutureWarning: `max_features='auto'` has been deprecated in 1.1 and will be removed in 1.3. To keep the past behaviour, explicitly set `max_features='sqrt'`.\n",
            "  warnings.warn(\n",
            "/usr/local/lib/python3.10/dist-packages/sklearn/tree/_classes.py:269: FutureWarning: `max_features='auto'` has been deprecated in 1.1 and will be removed in 1.3. To keep the past behaviour, explicitly set `max_features='sqrt'`.\n",
            "  warnings.warn(\n",
            "/usr/local/lib/python3.10/dist-packages/sklearn/tree/_classes.py:269: FutureWarning: `max_features='auto'` has been deprecated in 1.1 and will be removed in 1.3. To keep the past behaviour, explicitly set `max_features='sqrt'`.\n",
            "  warnings.warn(\n",
            "/usr/local/lib/python3.10/dist-packages/sklearn/tree/_classes.py:269: FutureWarning: `max_features='auto'` has been deprecated in 1.1 and will be removed in 1.3. To keep the past behaviour, explicitly set `max_features='sqrt'`.\n",
            "  warnings.warn(\n",
            "/usr/local/lib/python3.10/dist-packages/sklearn/tree/_classes.py:269: FutureWarning: `max_features='auto'` has been deprecated in 1.1 and will be removed in 1.3. To keep the past behaviour, explicitly set `max_features='sqrt'`.\n",
            "  warnings.warn(\n",
            "/usr/local/lib/python3.10/dist-packages/sklearn/tree/_classes.py:269: FutureWarning: `max_features='auto'` has been deprecated in 1.1 and will be removed in 1.3. To keep the past behaviour, explicitly set `max_features='sqrt'`.\n",
            "  warnings.warn(\n",
            "/usr/local/lib/python3.10/dist-packages/sklearn/tree/_classes.py:269: FutureWarning: `max_features='auto'` has been deprecated in 1.1 and will be removed in 1.3. To keep the past behaviour, explicitly set `max_features='sqrt'`.\n",
            "  warnings.warn(\n",
            "/usr/local/lib/python3.10/dist-packages/sklearn/tree/_classes.py:269: FutureWarning: `max_features='auto'` has been deprecated in 1.1 and will be removed in 1.3. To keep the past behaviour, explicitly set `max_features='sqrt'`.\n",
            "  warnings.warn(\n",
            "/usr/local/lib/python3.10/dist-packages/sklearn/tree/_classes.py:269: FutureWarning: `max_features='auto'` has been deprecated in 1.1 and will be removed in 1.3. To keep the past behaviour, explicitly set `max_features='sqrt'`.\n",
            "  warnings.warn(\n",
            "/usr/local/lib/python3.10/dist-packages/sklearn/tree/_classes.py:269: FutureWarning: `max_features='auto'` has been deprecated in 1.1 and will be removed in 1.3. To keep the past behaviour, explicitly set `max_features='sqrt'`.\n",
            "  warnings.warn(\n",
            "/usr/local/lib/python3.10/dist-packages/sklearn/tree/_classes.py:269: FutureWarning: `max_features='auto'` has been deprecated in 1.1 and will be removed in 1.3. To keep the past behaviour, explicitly set `max_features='sqrt'`.\n",
            "  warnings.warn(\n",
            "/usr/local/lib/python3.10/dist-packages/sklearn/tree/_classes.py:269: FutureWarning: `max_features='auto'` has been deprecated in 1.1 and will be removed in 1.3. To keep the past behaviour, explicitly set `max_features='sqrt'`.\n",
            "  warnings.warn(\n",
            "/usr/local/lib/python3.10/dist-packages/sklearn/tree/_classes.py:269: FutureWarning: `max_features='auto'` has been deprecated in 1.1 and will be removed in 1.3. To keep the past behaviour, explicitly set `max_features='sqrt'`.\n",
            "  warnings.warn(\n",
            "/usr/local/lib/python3.10/dist-packages/sklearn/tree/_classes.py:269: FutureWarning: `max_features='auto'` has been deprecated in 1.1 and will be removed in 1.3. To keep the past behaviour, explicitly set `max_features='sqrt'`.\n",
            "  warnings.warn(\n",
            "/usr/local/lib/python3.10/dist-packages/sklearn/tree/_classes.py:269: FutureWarning: `max_features='auto'` has been deprecated in 1.1 and will be removed in 1.3. To keep the past behaviour, explicitly set `max_features='sqrt'`.\n",
            "  warnings.warn(\n",
            "/usr/local/lib/python3.10/dist-packages/sklearn/tree/_classes.py:269: FutureWarning: `max_features='auto'` has been deprecated in 1.1 and will be removed in 1.3. To keep the past behaviour, explicitly set `max_features='sqrt'`.\n",
            "  warnings.warn(\n",
            "/usr/local/lib/python3.10/dist-packages/sklearn/tree/_classes.py:269: FutureWarning: `max_features='auto'` has been deprecated in 1.1 and will be removed in 1.3. To keep the past behaviour, explicitly set `max_features='sqrt'`.\n",
            "  warnings.warn(\n",
            "/usr/local/lib/python3.10/dist-packages/sklearn/tree/_classes.py:269: FutureWarning: `max_features='auto'` has been deprecated in 1.1 and will be removed in 1.3. To keep the past behaviour, explicitly set `max_features='sqrt'`.\n",
            "  warnings.warn(\n",
            "/usr/local/lib/python3.10/dist-packages/sklearn/tree/_classes.py:269: FutureWarning: `max_features='auto'` has been deprecated in 1.1 and will be removed in 1.3. To keep the past behaviour, explicitly set `max_features='sqrt'`.\n",
            "  warnings.warn(\n",
            "/usr/local/lib/python3.10/dist-packages/sklearn/tree/_classes.py:269: FutureWarning: `max_features='auto'` has been deprecated in 1.1 and will be removed in 1.3. To keep the past behaviour, explicitly set `max_features='sqrt'`.\n",
            "  warnings.warn(\n",
            "/usr/local/lib/python3.10/dist-packages/sklearn/tree/_classes.py:269: FutureWarning: `max_features='auto'` has been deprecated in 1.1 and will be removed in 1.3. To keep the past behaviour, explicitly set `max_features='sqrt'`.\n",
            "  warnings.warn(\n",
            "/usr/local/lib/python3.10/dist-packages/sklearn/tree/_classes.py:269: FutureWarning: `max_features='auto'` has been deprecated in 1.1 and will be removed in 1.3. To keep the past behaviour, explicitly set `max_features='sqrt'`.\n",
            "  warnings.warn(\n",
            "/usr/local/lib/python3.10/dist-packages/sklearn/tree/_classes.py:269: FutureWarning: `max_features='auto'` has been deprecated in 1.1 and will be removed in 1.3. To keep the past behaviour, explicitly set `max_features='sqrt'`.\n",
            "  warnings.warn(\n",
            "/usr/local/lib/python3.10/dist-packages/sklearn/tree/_classes.py:269: FutureWarning: `max_features='auto'` has been deprecated in 1.1 and will be removed in 1.3. To keep the past behaviour, explicitly set `max_features='sqrt'`.\n",
            "  warnings.warn(\n",
            "/usr/local/lib/python3.10/dist-packages/sklearn/tree/_classes.py:269: FutureWarning: `max_features='auto'` has been deprecated in 1.1 and will be removed in 1.3. To keep the past behaviour, explicitly set `max_features='sqrt'`.\n",
            "  warnings.warn(\n",
            "/usr/local/lib/python3.10/dist-packages/sklearn/tree/_classes.py:269: FutureWarning: `max_features='auto'` has been deprecated in 1.1 and will be removed in 1.3. To keep the past behaviour, explicitly set `max_features='sqrt'`.\n",
            "  warnings.warn(\n",
            "/usr/local/lib/python3.10/dist-packages/sklearn/tree/_classes.py:269: FutureWarning: `max_features='auto'` has been deprecated in 1.1 and will be removed in 1.3. To keep the past behaviour, explicitly set `max_features='sqrt'`.\n",
            "  warnings.warn(\n",
            "/usr/local/lib/python3.10/dist-packages/sklearn/tree/_classes.py:269: FutureWarning: `max_features='auto'` has been deprecated in 1.1 and will be removed in 1.3. To keep the past behaviour, explicitly set `max_features='sqrt'`.\n",
            "  warnings.warn(\n",
            "/usr/local/lib/python3.10/dist-packages/sklearn/tree/_classes.py:269: FutureWarning: `max_features='auto'` has been deprecated in 1.1 and will be removed in 1.3. To keep the past behaviour, explicitly set `max_features='sqrt'`.\n",
            "  warnings.warn(\n",
            "/usr/local/lib/python3.10/dist-packages/sklearn/tree/_classes.py:269: FutureWarning: `max_features='auto'` has been deprecated in 1.1 and will be removed in 1.3. To keep the past behaviour, explicitly set `max_features='sqrt'`.\n",
            "  warnings.warn(\n",
            "/usr/local/lib/python3.10/dist-packages/sklearn/tree/_classes.py:269: FutureWarning: `max_features='auto'` has been deprecated in 1.1 and will be removed in 1.3. To keep the past behaviour, explicitly set `max_features='sqrt'`.\n",
            "  warnings.warn(\n",
            "/usr/local/lib/python3.10/dist-packages/sklearn/tree/_classes.py:269: FutureWarning: `max_features='auto'` has been deprecated in 1.1 and will be removed in 1.3. To keep the past behaviour, explicitly set `max_features='sqrt'`.\n",
            "  warnings.warn(\n",
            "/usr/local/lib/python3.10/dist-packages/sklearn/tree/_classes.py:269: FutureWarning: `max_features='auto'` has been deprecated in 1.1 and will be removed in 1.3. To keep the past behaviour, explicitly set `max_features='sqrt'`.\n",
            "  warnings.warn(\n",
            "/usr/local/lib/python3.10/dist-packages/sklearn/tree/_classes.py:269: FutureWarning: `max_features='auto'` has been deprecated in 1.1 and will be removed in 1.3. To keep the past behaviour, explicitly set `max_features='sqrt'`.\n",
            "  warnings.warn(\n",
            "/usr/local/lib/python3.10/dist-packages/sklearn/tree/_classes.py:269: FutureWarning: `max_features='auto'` has been deprecated in 1.1 and will be removed in 1.3. To keep the past behaviour, explicitly set `max_features='sqrt'`.\n",
            "  warnings.warn(\n",
            "/usr/local/lib/python3.10/dist-packages/sklearn/tree/_classes.py:269: FutureWarning: `max_features='auto'` has been deprecated in 1.1 and will be removed in 1.3. To keep the past behaviour, explicitly set `max_features='sqrt'`.\n",
            "  warnings.warn(\n",
            "/usr/local/lib/python3.10/dist-packages/sklearn/tree/_classes.py:269: FutureWarning: `max_features='auto'` has been deprecated in 1.1 and will be removed in 1.3. To keep the past behaviour, explicitly set `max_features='sqrt'`.\n",
            "  warnings.warn(\n",
            "/usr/local/lib/python3.10/dist-packages/sklearn/tree/_classes.py:269: FutureWarning: `max_features='auto'` has been deprecated in 1.1 and will be removed in 1.3. To keep the past behaviour, explicitly set `max_features='sqrt'`.\n",
            "  warnings.warn(\n",
            "/usr/local/lib/python3.10/dist-packages/sklearn/tree/_classes.py:269: FutureWarning: `max_features='auto'` has been deprecated in 1.1 and will be removed in 1.3. To keep the past behaviour, explicitly set `max_features='sqrt'`.\n",
            "  warnings.warn(\n",
            "/usr/local/lib/python3.10/dist-packages/sklearn/tree/_classes.py:269: FutureWarning: `max_features='auto'` has been deprecated in 1.1 and will be removed in 1.3. To keep the past behaviour, explicitly set `max_features='sqrt'`.\n",
            "  warnings.warn(\n",
            "/usr/local/lib/python3.10/dist-packages/sklearn/tree/_classes.py:269: FutureWarning: `max_features='auto'` has been deprecated in 1.1 and will be removed in 1.3. To keep the past behaviour, explicitly set `max_features='sqrt'`.\n",
            "  warnings.warn(\n",
            "/usr/local/lib/python3.10/dist-packages/sklearn/tree/_classes.py:269: FutureWarning: `max_features='auto'` has been deprecated in 1.1 and will be removed in 1.3. To keep the past behaviour, explicitly set `max_features='sqrt'`.\n",
            "  warnings.warn(\n",
            "/usr/local/lib/python3.10/dist-packages/sklearn/tree/_classes.py:269: FutureWarning: `max_features='auto'` has been deprecated in 1.1 and will be removed in 1.3. To keep the past behaviour, explicitly set `max_features='sqrt'`.\n",
            "  warnings.warn(\n",
            "/usr/local/lib/python3.10/dist-packages/sklearn/tree/_classes.py:269: FutureWarning: `max_features='auto'` has been deprecated in 1.1 and will be removed in 1.3. To keep the past behaviour, explicitly set `max_features='sqrt'`.\n",
            "  warnings.warn(\n",
            "/usr/local/lib/python3.10/dist-packages/sklearn/tree/_classes.py:269: FutureWarning: `max_features='auto'` has been deprecated in 1.1 and will be removed in 1.3. To keep the past behaviour, explicitly set `max_features='sqrt'`.\n",
            "  warnings.warn(\n",
            "/usr/local/lib/python3.10/dist-packages/sklearn/tree/_classes.py:269: FutureWarning: `max_features='auto'` has been deprecated in 1.1 and will be removed in 1.3. To keep the past behaviour, explicitly set `max_features='sqrt'`.\n",
            "  warnings.warn(\n",
            "/usr/local/lib/python3.10/dist-packages/sklearn/tree/_classes.py:269: FutureWarning: `max_features='auto'` has been deprecated in 1.1 and will be removed in 1.3. To keep the past behaviour, explicitly set `max_features='sqrt'`.\n",
            "  warnings.warn(\n",
            "/usr/local/lib/python3.10/dist-packages/sklearn/tree/_classes.py:269: FutureWarning: `max_features='auto'` has been deprecated in 1.1 and will be removed in 1.3. To keep the past behaviour, explicitly set `max_features='sqrt'`.\n",
            "  warnings.warn(\n",
            "/usr/local/lib/python3.10/dist-packages/sklearn/tree/_classes.py:269: FutureWarning: `max_features='auto'` has been deprecated in 1.1 and will be removed in 1.3. To keep the past behaviour, explicitly set `max_features='sqrt'`.\n",
            "  warnings.warn(\n",
            "/usr/local/lib/python3.10/dist-packages/sklearn/tree/_classes.py:269: FutureWarning: `max_features='auto'` has been deprecated in 1.1 and will be removed in 1.3. To keep the past behaviour, explicitly set `max_features='sqrt'`.\n",
            "  warnings.warn(\n",
            "/usr/local/lib/python3.10/dist-packages/sklearn/tree/_classes.py:269: FutureWarning: `max_features='auto'` has been deprecated in 1.1 and will be removed in 1.3. To keep the past behaviour, explicitly set `max_features='sqrt'`.\n",
            "  warnings.warn(\n",
            "/usr/local/lib/python3.10/dist-packages/sklearn/tree/_classes.py:269: FutureWarning: `max_features='auto'` has been deprecated in 1.1 and will be removed in 1.3. To keep the past behaviour, explicitly set `max_features='sqrt'`.\n",
            "  warnings.warn(\n",
            "/usr/local/lib/python3.10/dist-packages/sklearn/tree/_classes.py:269: FutureWarning: `max_features='auto'` has been deprecated in 1.1 and will be removed in 1.3. To keep the past behaviour, explicitly set `max_features='sqrt'`.\n",
            "  warnings.warn(\n",
            "/usr/local/lib/python3.10/dist-packages/sklearn/tree/_classes.py:269: FutureWarning: `max_features='auto'` has been deprecated in 1.1 and will be removed in 1.3. To keep the past behaviour, explicitly set `max_features='sqrt'`.\n",
            "  warnings.warn(\n",
            "/usr/local/lib/python3.10/dist-packages/sklearn/tree/_classes.py:269: FutureWarning: `max_features='auto'` has been deprecated in 1.1 and will be removed in 1.3. To keep the past behaviour, explicitly set `max_features='sqrt'`.\n",
            "  warnings.warn(\n",
            "/usr/local/lib/python3.10/dist-packages/sklearn/tree/_classes.py:269: FutureWarning: `max_features='auto'` has been deprecated in 1.1 and will be removed in 1.3. To keep the past behaviour, explicitly set `max_features='sqrt'`.\n",
            "  warnings.warn(\n",
            "/usr/local/lib/python3.10/dist-packages/sklearn/tree/_classes.py:269: FutureWarning: `max_features='auto'` has been deprecated in 1.1 and will be removed in 1.3. To keep the past behaviour, explicitly set `max_features='sqrt'`.\n",
            "  warnings.warn(\n",
            "/usr/local/lib/python3.10/dist-packages/sklearn/tree/_classes.py:269: FutureWarning: `max_features='auto'` has been deprecated in 1.1 and will be removed in 1.3. To keep the past behaviour, explicitly set `max_features='sqrt'`.\n",
            "  warnings.warn(\n",
            "/usr/local/lib/python3.10/dist-packages/sklearn/tree/_classes.py:269: FutureWarning: `max_features='auto'` has been deprecated in 1.1 and will be removed in 1.3. To keep the past behaviour, explicitly set `max_features='sqrt'`.\n",
            "  warnings.warn(\n",
            "/usr/local/lib/python3.10/dist-packages/sklearn/tree/_classes.py:269: FutureWarning: `max_features='auto'` has been deprecated in 1.1 and will be removed in 1.3. To keep the past behaviour, explicitly set `max_features='sqrt'`.\n",
            "  warnings.warn(\n",
            "/usr/local/lib/python3.10/dist-packages/sklearn/tree/_classes.py:269: FutureWarning: `max_features='auto'` has been deprecated in 1.1 and will be removed in 1.3. To keep the past behaviour, explicitly set `max_features='sqrt'`.\n",
            "  warnings.warn(\n",
            "/usr/local/lib/python3.10/dist-packages/sklearn/tree/_classes.py:269: FutureWarning: `max_features='auto'` has been deprecated in 1.1 and will be removed in 1.3. To keep the past behaviour, explicitly set `max_features='sqrt'`.\n",
            "  warnings.warn(\n",
            "/usr/local/lib/python3.10/dist-packages/sklearn/tree/_classes.py:269: FutureWarning: `max_features='auto'` has been deprecated in 1.1 and will be removed in 1.3. To keep the past behaviour, explicitly set `max_features='sqrt'`.\n",
            "  warnings.warn(\n",
            "/usr/local/lib/python3.10/dist-packages/sklearn/tree/_classes.py:269: FutureWarning: `max_features='auto'` has been deprecated in 1.1 and will be removed in 1.3. To keep the past behaviour, explicitly set `max_features='sqrt'`.\n",
            "  warnings.warn(\n",
            "/usr/local/lib/python3.10/dist-packages/sklearn/tree/_classes.py:269: FutureWarning: `max_features='auto'` has been deprecated in 1.1 and will be removed in 1.3. To keep the past behaviour, explicitly set `max_features='sqrt'`.\n",
            "  warnings.warn(\n",
            "/usr/local/lib/python3.10/dist-packages/sklearn/tree/_classes.py:269: FutureWarning: `max_features='auto'` has been deprecated in 1.1 and will be removed in 1.3. To keep the past behaviour, explicitly set `max_features='sqrt'`.\n",
            "  warnings.warn(\n",
            "/usr/local/lib/python3.10/dist-packages/sklearn/tree/_classes.py:269: FutureWarning: `max_features='auto'` has been deprecated in 1.1 and will be removed in 1.3. To keep the past behaviour, explicitly set `max_features='sqrt'`.\n",
            "  warnings.warn(\n",
            "/usr/local/lib/python3.10/dist-packages/sklearn/tree/_classes.py:269: FutureWarning: `max_features='auto'` has been deprecated in 1.1 and will be removed in 1.3. To keep the past behaviour, explicitly set `max_features='sqrt'`.\n",
            "  warnings.warn(\n",
            "/usr/local/lib/python3.10/dist-packages/sklearn/tree/_classes.py:269: FutureWarning: `max_features='auto'` has been deprecated in 1.1 and will be removed in 1.3. To keep the past behaviour, explicitly set `max_features='sqrt'`.\n",
            "  warnings.warn(\n",
            "/usr/local/lib/python3.10/dist-packages/sklearn/tree/_classes.py:269: FutureWarning: `max_features='auto'` has been deprecated in 1.1 and will be removed in 1.3. To keep the past behaviour, explicitly set `max_features='sqrt'`.\n",
            "  warnings.warn(\n",
            "/usr/local/lib/python3.10/dist-packages/sklearn/tree/_classes.py:269: FutureWarning: `max_features='auto'` has been deprecated in 1.1 and will be removed in 1.3. To keep the past behaviour, explicitly set `max_features='sqrt'`.\n",
            "  warnings.warn(\n",
            "/usr/local/lib/python3.10/dist-packages/sklearn/tree/_classes.py:269: FutureWarning: `max_features='auto'` has been deprecated in 1.1 and will be removed in 1.3. To keep the past behaviour, explicitly set `max_features='sqrt'`.\n",
            "  warnings.warn(\n",
            "/usr/local/lib/python3.10/dist-packages/sklearn/tree/_classes.py:269: FutureWarning: `max_features='auto'` has been deprecated in 1.1 and will be removed in 1.3. To keep the past behaviour, explicitly set `max_features='sqrt'`.\n",
            "  warnings.warn(\n",
            "/usr/local/lib/python3.10/dist-packages/sklearn/tree/_classes.py:269: FutureWarning: `max_features='auto'` has been deprecated in 1.1 and will be removed in 1.3. To keep the past behaviour, explicitly set `max_features='sqrt'`.\n",
            "  warnings.warn(\n",
            "/usr/local/lib/python3.10/dist-packages/sklearn/tree/_classes.py:269: FutureWarning: `max_features='auto'` has been deprecated in 1.1 and will be removed in 1.3. To keep the past behaviour, explicitly set `max_features='sqrt'`.\n",
            "  warnings.warn(\n",
            "/usr/local/lib/python3.10/dist-packages/sklearn/tree/_classes.py:269: FutureWarning: `max_features='auto'` has been deprecated in 1.1 and will be removed in 1.3. To keep the past behaviour, explicitly set `max_features='sqrt'`.\n",
            "  warnings.warn(\n",
            "/usr/local/lib/python3.10/dist-packages/sklearn/tree/_classes.py:269: FutureWarning: `max_features='auto'` has been deprecated in 1.1 and will be removed in 1.3. To keep the past behaviour, explicitly set `max_features='sqrt'`.\n",
            "  warnings.warn(\n",
            "/usr/local/lib/python3.10/dist-packages/sklearn/tree/_classes.py:269: FutureWarning: `max_features='auto'` has been deprecated in 1.1 and will be removed in 1.3. To keep the past behaviour, explicitly set `max_features='sqrt'`.\n",
            "  warnings.warn(\n",
            "/usr/local/lib/python3.10/dist-packages/sklearn/tree/_classes.py:269: FutureWarning: `max_features='auto'` has been deprecated in 1.1 and will be removed in 1.3. To keep the past behaviour, explicitly set `max_features='sqrt'`.\n",
            "  warnings.warn(\n",
            "/usr/local/lib/python3.10/dist-packages/sklearn/tree/_classes.py:269: FutureWarning: `max_features='auto'` has been deprecated in 1.1 and will be removed in 1.3. To keep the past behaviour, explicitly set `max_features='sqrt'`.\n",
            "  warnings.warn(\n",
            "/usr/local/lib/python3.10/dist-packages/sklearn/tree/_classes.py:269: FutureWarning: `max_features='auto'` has been deprecated in 1.1 and will be removed in 1.3. To keep the past behaviour, explicitly set `max_features='sqrt'`.\n",
            "  warnings.warn(\n",
            "/usr/local/lib/python3.10/dist-packages/sklearn/tree/_classes.py:269: FutureWarning: `max_features='auto'` has been deprecated in 1.1 and will be removed in 1.3. To keep the past behaviour, explicitly set `max_features='sqrt'`.\n",
            "  warnings.warn(\n",
            "/usr/local/lib/python3.10/dist-packages/sklearn/tree/_classes.py:269: FutureWarning: `max_features='auto'` has been deprecated in 1.1 and will be removed in 1.3. To keep the past behaviour, explicitly set `max_features='sqrt'`.\n",
            "  warnings.warn(\n",
            "/usr/local/lib/python3.10/dist-packages/sklearn/tree/_classes.py:269: FutureWarning: `max_features='auto'` has been deprecated in 1.1 and will be removed in 1.3. To keep the past behaviour, explicitly set `max_features='sqrt'`.\n",
            "  warnings.warn(\n",
            "/usr/local/lib/python3.10/dist-packages/sklearn/tree/_classes.py:269: FutureWarning: `max_features='auto'` has been deprecated in 1.1 and will be removed in 1.3. To keep the past behaviour, explicitly set `max_features='sqrt'`.\n",
            "  warnings.warn(\n",
            "/usr/local/lib/python3.10/dist-packages/sklearn/tree/_classes.py:269: FutureWarning: `max_features='auto'` has been deprecated in 1.1 and will be removed in 1.3. To keep the past behaviour, explicitly set `max_features='sqrt'`.\n",
            "  warnings.warn(\n",
            "/usr/local/lib/python3.10/dist-packages/sklearn/tree/_classes.py:269: FutureWarning: `max_features='auto'` has been deprecated in 1.1 and will be removed in 1.3. To keep the past behaviour, explicitly set `max_features='sqrt'`.\n",
            "  warnings.warn(\n",
            "/usr/local/lib/python3.10/dist-packages/sklearn/tree/_classes.py:269: FutureWarning: `max_features='auto'` has been deprecated in 1.1 and will be removed in 1.3. To keep the past behaviour, explicitly set `max_features='sqrt'`.\n",
            "  warnings.warn(\n",
            "/usr/local/lib/python3.10/dist-packages/sklearn/tree/_classes.py:269: FutureWarning: `max_features='auto'` has been deprecated in 1.1 and will be removed in 1.3. To keep the past behaviour, explicitly set `max_features='sqrt'`.\n",
            "  warnings.warn(\n",
            "/usr/local/lib/python3.10/dist-packages/sklearn/tree/_classes.py:269: FutureWarning: `max_features='auto'` has been deprecated in 1.1 and will be removed in 1.3. To keep the past behaviour, explicitly set `max_features='sqrt'`.\n",
            "  warnings.warn(\n",
            "/usr/local/lib/python3.10/dist-packages/sklearn/tree/_classes.py:269: FutureWarning: `max_features='auto'` has been deprecated in 1.1 and will be removed in 1.3. To keep the past behaviour, explicitly set `max_features='sqrt'`.\n",
            "  warnings.warn(\n",
            "/usr/local/lib/python3.10/dist-packages/sklearn/tree/_classes.py:269: FutureWarning: `max_features='auto'` has been deprecated in 1.1 and will be removed in 1.3. To keep the past behaviour, explicitly set `max_features='sqrt'`.\n",
            "  warnings.warn(\n",
            "/usr/local/lib/python3.10/dist-packages/sklearn/tree/_classes.py:269: FutureWarning: `max_features='auto'` has been deprecated in 1.1 and will be removed in 1.3. To keep the past behaviour, explicitly set `max_features='sqrt'`.\n",
            "  warnings.warn(\n",
            "/usr/local/lib/python3.10/dist-packages/sklearn/tree/_classes.py:269: FutureWarning: `max_features='auto'` has been deprecated in 1.1 and will be removed in 1.3. To keep the past behaviour, explicitly set `max_features='sqrt'`.\n",
            "  warnings.warn(\n",
            "/usr/local/lib/python3.10/dist-packages/sklearn/tree/_classes.py:269: FutureWarning: `max_features='auto'` has been deprecated in 1.1 and will be removed in 1.3. To keep the past behaviour, explicitly set `max_features='sqrt'`.\n",
            "  warnings.warn(\n",
            "/usr/local/lib/python3.10/dist-packages/sklearn/tree/_classes.py:269: FutureWarning: `max_features='auto'` has been deprecated in 1.1 and will be removed in 1.3. To keep the past behaviour, explicitly set `max_features='sqrt'`.\n",
            "  warnings.warn(\n",
            "/usr/local/lib/python3.10/dist-packages/sklearn/tree/_classes.py:269: FutureWarning: `max_features='auto'` has been deprecated in 1.1 and will be removed in 1.3. To keep the past behaviour, explicitly set `max_features='sqrt'`.\n",
            "  warnings.warn(\n",
            "/usr/local/lib/python3.10/dist-packages/sklearn/tree/_classes.py:269: FutureWarning: `max_features='auto'` has been deprecated in 1.1 and will be removed in 1.3. To keep the past behaviour, explicitly set `max_features='sqrt'`.\n",
            "  warnings.warn(\n",
            "/usr/local/lib/python3.10/dist-packages/sklearn/tree/_classes.py:269: FutureWarning: `max_features='auto'` has been deprecated in 1.1 and will be removed in 1.3. To keep the past behaviour, explicitly set `max_features='sqrt'`.\n",
            "  warnings.warn(\n",
            "/usr/local/lib/python3.10/dist-packages/sklearn/tree/_classes.py:269: FutureWarning: `max_features='auto'` has been deprecated in 1.1 and will be removed in 1.3. To keep the past behaviour, explicitly set `max_features='sqrt'`.\n",
            "  warnings.warn(\n",
            "/usr/local/lib/python3.10/dist-packages/sklearn/tree/_classes.py:269: FutureWarning: `max_features='auto'` has been deprecated in 1.1 and will be removed in 1.3. To keep the past behaviour, explicitly set `max_features='sqrt'`.\n",
            "  warnings.warn(\n",
            "/usr/local/lib/python3.10/dist-packages/sklearn/tree/_classes.py:269: FutureWarning: `max_features='auto'` has been deprecated in 1.1 and will be removed in 1.3. To keep the past behaviour, explicitly set `max_features='sqrt'`.\n",
            "  warnings.warn(\n",
            "/usr/local/lib/python3.10/dist-packages/sklearn/tree/_classes.py:269: FutureWarning: `max_features='auto'` has been deprecated in 1.1 and will be removed in 1.3. To keep the past behaviour, explicitly set `max_features='sqrt'`.\n",
            "  warnings.warn(\n",
            "/usr/local/lib/python3.10/dist-packages/sklearn/tree/_classes.py:269: FutureWarning: `max_features='auto'` has been deprecated in 1.1 and will be removed in 1.3. To keep the past behaviour, explicitly set `max_features='sqrt'`.\n",
            "  warnings.warn(\n",
            "/usr/local/lib/python3.10/dist-packages/sklearn/tree/_classes.py:269: FutureWarning: `max_features='auto'` has been deprecated in 1.1 and will be removed in 1.3. To keep the past behaviour, explicitly set `max_features='sqrt'`.\n",
            "  warnings.warn(\n",
            "/usr/local/lib/python3.10/dist-packages/sklearn/tree/_classes.py:269: FutureWarning: `max_features='auto'` has been deprecated in 1.1 and will be removed in 1.3. To keep the past behaviour, explicitly set `max_features='sqrt'`.\n",
            "  warnings.warn(\n",
            "/usr/local/lib/python3.10/dist-packages/sklearn/tree/_classes.py:269: FutureWarning: `max_features='auto'` has been deprecated in 1.1 and will be removed in 1.3. To keep the past behaviour, explicitly set `max_features='sqrt'`.\n",
            "  warnings.warn(\n",
            "/usr/local/lib/python3.10/dist-packages/sklearn/tree/_classes.py:269: FutureWarning: `max_features='auto'` has been deprecated in 1.1 and will be removed in 1.3. To keep the past behaviour, explicitly set `max_features='sqrt'`.\n",
            "  warnings.warn(\n",
            "/usr/local/lib/python3.10/dist-packages/sklearn/tree/_classes.py:269: FutureWarning: `max_features='auto'` has been deprecated in 1.1 and will be removed in 1.3. To keep the past behaviour, explicitly set `max_features='sqrt'`.\n",
            "  warnings.warn(\n",
            "/usr/local/lib/python3.10/dist-packages/sklearn/tree/_classes.py:269: FutureWarning: `max_features='auto'` has been deprecated in 1.1 and will be removed in 1.3. To keep the past behaviour, explicitly set `max_features='sqrt'`.\n",
            "  warnings.warn(\n",
            "/usr/local/lib/python3.10/dist-packages/sklearn/tree/_classes.py:269: FutureWarning: `max_features='auto'` has been deprecated in 1.1 and will be removed in 1.3. To keep the past behaviour, explicitly set `max_features='sqrt'`.\n",
            "  warnings.warn(\n"
          ]
        },
        {
          "output_type": "stream",
          "name": "stdout",
          "text": [
            "Best Model: DecisionTreeClassifier(max_depth=10, max_features='auto', min_samples_leaf=4,\n",
            "                       min_samples_split=10, random_state=202035254)\n",
            "Training Accuracy: 0.8735955056179775\n",
            "Test Accuracy: 0.8324022346368715\n"
          ]
        },
        {
          "output_type": "stream",
          "name": "stderr",
          "text": [
            "/usr/local/lib/python3.10/dist-packages/sklearn/tree/_classes.py:269: FutureWarning: `max_features='auto'` has been deprecated in 1.1 and will be removed in 1.3. To keep the past behaviour, explicitly set `max_features='sqrt'`.\n",
            "  warnings.warn(\n"
          ]
        }
      ]
    },
    {
      "cell_type": "markdown",
      "source": [
        "\n",
        "### Random Forest"
      ],
      "metadata": {
        "id": "eTidhdw8cBw1"
      }
    },
    {
      "cell_type": "code",
      "source": [
        "from sklearn.model_selection import cross_validate\n",
        "from sklearn.ensemble import RandomForestClassifier\n",
        "\n",
        "rf = RandomForestClassifier(n_jobs=-1, random_state=202035254)\n",
        "\n",
        "# 교차 검증\n",
        "scores = cross_validate(rf, train_input, train_target, return_train_score=True, n_jobs=-1)\n",
        "\n",
        "print(np.mean(scores['train_score']), np.mean(scores['test_score']))"
      ],
      "metadata": {
        "colab": {
          "base_uri": "https://localhost:8080/"
        },
        "id": "ZSQSpQc2aEGD",
        "outputId": "c54a6d5a-04b4-4e8c-caae-463b8527ecf2"
      },
      "execution_count": null,
      "outputs": [
        {
          "output_type": "stream",
          "name": "stdout",
          "text": [
            "0.983147411586964 0.8034571062740076\n"
          ]
        }
      ]
    },
    {
      "cell_type": "code",
      "source": [
        "rf.fit(train_input, train_target)\n",
        "print(rf.feature_importances_)"
      ],
      "metadata": {
        "colab": {
          "base_uri": "https://localhost:8080/"
        },
        "id": "aBWET43ma0zU",
        "outputId": "73463840-5fe9-4641-cb78-cf6d158306b8"
      },
      "execution_count": null,
      "outputs": [
        {
          "output_type": "stream",
          "name": "stdout",
          "text": [
            "[0.08080159 0.27636515 0.03815598 0.31901581 0.28566147]\n"
          ]
        }
      ]
    },
    {
      "cell_type": "code",
      "source": [
        "rf = RandomForestClassifier(oob_score=True, n_jobs=-1, random_state=42)\n",
        "\n",
        "rf.fit(train_input, train_target)\n",
        "print(rf.oob_score_)"
      ],
      "metadata": {
        "colab": {
          "base_uri": "https://localhost:8080/"
        },
        "id": "i1TU81o4a2LH",
        "outputId": "a8b60ec9-7b40-4a96-9407-7dcb8bc1a657"
      },
      "execution_count": null,
      "outputs": [
        {
          "output_type": "stream",
          "name": "stdout",
          "text": [
            "0.8103932584269663\n"
          ]
        }
      ]
    },
    {
      "cell_type": "code",
      "source": [
        "from sklearn.model_selection import GridSearchCV\n",
        "from sklearn.ensemble import RandomForestClassifier\n",
        "\n",
        "# 랜덤 포레스트 분류기를 만듭니다.\n",
        "rf = RandomForestClassifier(random_state=202035254)\n",
        "\n",
        "# 탐색할 하이퍼파라미터 그리드를 정의합니다.\n",
        "param_grid = {\n",
        "    'n_estimators': [100, 200, 300],  # 트리의 개수에 대한 예시 값\n",
        "    'max_depth': [None, 10, 20],    # 트리의 최대 깊이에 대한 예시 값\n",
        "    # 조정하려는 다른 하이퍼파라미터를 추가할 수 있습니다.\n",
        "}\n",
        "\n",
        "# GridSearchCV 객체를 만듭니다.\n",
        "grid_search = GridSearchCV(estimator=rf, param_grid=param_grid, cv=5, n_jobs=-1, scoring='accuracy')\n",
        "\n",
        "# 훈련 데이터에 대해 그리드 서치를 수행합니다.\n",
        "grid_search.fit(train_input, train_target)\n",
        "\n",
        "# 최적의 하이퍼파라미터 및 해당 교차 검증 점수를 출력합니다.\n",
        "print(\"최적 하이퍼파라미터:\", grid_search.best_params_)\n",
        "print(\"최적 교차 검증 점수:\", grid_search.best_score_)"
      ],
      "metadata": {
        "colab": {
          "base_uri": "https://localhost:8080/"
        },
        "id": "8xSF0HbMa3xJ",
        "outputId": "a9d87990-fc0f-4e7f-997d-380eb97cdc4e"
      },
      "execution_count": null,
      "outputs": [
        {
          "output_type": "stream",
          "name": "stdout",
          "text": [
            "최적 하이퍼파라미터: {'max_depth': 10, 'n_estimators': 200}\n",
            "최적 교차 검증 점수: 0.8245050723923963\n"
          ]
        }
      ]
    },
    {
      "cell_type": "markdown",
      "source": [
        "### 히스토램 기반 그래디언트 부스팅"
      ],
      "metadata": {
        "id": "ENONnicPcIr8"
      }
    },
    {
      "cell_type": "code",
      "source": [
        "from sklearn.ensemble import HistGradientBoostingClassifier\n",
        "\n",
        "hgb = HistGradientBoostingClassifier(random_state=42)\n",
        "\n",
        "#교차검증\n",
        "scores = cross_validate(hgb, train_input, train_target, return_train_score=True, n_jobs=-1)\n",
        "\n",
        "print(np.mean(scores['train_score']), np.mean(scores['test_score']))"
      ],
      "metadata": {
        "colab": {
          "base_uri": "https://localhost:8080/"
        },
        "id": "586zrMmcb6v6",
        "outputId": "43c964b0-620e-4e1d-8dfe-53ce0bf6b658"
      },
      "execution_count": null,
      "outputs": [
        {
          "output_type": "stream",
          "name": "stdout",
          "text": [
            "0.9346955261616255 0.8019600118191667\n"
          ]
        }
      ]
    },
    {
      "cell_type": "code",
      "source": [
        "from sklearn.inspection import permutation_importance\n",
        "\n",
        "# 특성 중요도\n",
        "hgb.fit(train_input, train_target)\n",
        "result = permutation_importance(hgb, train_input, train_target, n_repeats=10,\n",
        "                                random_state=202035254, n_jobs=-1)\n",
        "print(result.importances_mean)"
      ],
      "metadata": {
        "colab": {
          "base_uri": "https://localhost:8080/"
        },
        "id": "N24Pd45ocS7J",
        "outputId": "dea5b5a8-d41c-4ac4-9302-b1d1d862ada0"
      },
      "execution_count": null,
      "outputs": [
        {
          "output_type": "stream",
          "name": "stdout",
          "text": [
            "[0.10533708 0.12261236 0.01558989 0.1494382  0.23033708]\n"
          ]
        }
      ]
    },
    {
      "cell_type": "code",
      "source": [
        "result = permutation_importance(hgb, test_input, test_target, n_repeats=10,\n",
        "                                random_state=202035254, n_jobs=-1)\n",
        "print(result.importances_mean)"
      ],
      "metadata": {
        "colab": {
          "base_uri": "https://localhost:8080/"
        },
        "id": "-g-9Mag7cUE8",
        "outputId": "58fd7460-439d-49d4-afea-10d879e30079"
      },
      "execution_count": null,
      "outputs": [
        {
          "output_type": "stream",
          "name": "stdout",
          "text": [
            "[0.09944134 0.08379888 0.02458101 0.09329609 0.17039106]\n"
          ]
        }
      ]
    },
    {
      "cell_type": "code",
      "source": [
        "hgb.score(test_input, test_target)"
      ],
      "metadata": {
        "colab": {
          "base_uri": "https://localhost:8080/"
        },
        "id": "aEblN5UXcc8m",
        "outputId": "0193dee8-7ee9-4297-c9b2-edc238a7b023"
      },
      "execution_count": null,
      "outputs": [
        {
          "output_type": "execute_result",
          "data": {
            "text/plain": [
              "0.8603351955307262"
            ]
          },
          "metadata": {},
          "execution_count": 66
        }
      ]
    },
    {
      "cell_type": "code",
      "source": [
        "from sklearn.model_selection import GridSearchCV\n",
        "\n",
        "# 모델 정의\n",
        "hgb = HistGradientBoostingClassifier(random_state=42)\n",
        "\n",
        "# 탐색할 하이퍼파라미터 그리드 정의\n",
        "param_grid = {\n",
        "    'learning_rate': [0.01, 0.1, 0.2],  # 학습률\n",
        "    'max_iter': [100, 200, 300],  # 최대 반복 횟수\n",
        "    'max_leaf_nodes': [15, 31, 63],  # 최대 리프 노드 수\n",
        "}\n",
        "\n",
        "# 그리드 서치 객체 생성\n",
        "grid_search = GridSearchCV(hgb, param_grid, cv=5, n_jobs=-1)\n",
        "\n",
        "# 그리드 서치 수행\n",
        "grid_search.fit(train_input, train_target)\n",
        "\n",
        "# 최적의 매개변수 및 교차 검증 점수 출력\n",
        "print(\"Best Parameters: \", grid_search.best_params_)\n",
        "print(\"Best Cross-Validation Score: \", grid_search.best_score_)\n"
      ],
      "metadata": {
        "colab": {
          "base_uri": "https://localhost:8080/"
        },
        "id": "s9ix0uuDc0qM",
        "outputId": "18c06b8b-27c8-4da7-f271-7e005d547665"
      },
      "execution_count": null,
      "outputs": [
        {
          "output_type": "stream",
          "name": "stdout",
          "text": [
            "Best Parameters:  {'learning_rate': 0.1, 'max_iter': 100, 'max_leaf_nodes': 15}\n",
            "Best Cross-Validation Score:  0.8174332709543977\n"
          ]
        }
      ]
    }
  ]
}